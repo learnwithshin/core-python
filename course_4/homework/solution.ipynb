{
 "cells": [
  {
   "cell_type": "markdown",
   "metadata": {},
   "source": [
    "# Question:\n",
    "\n",
    "## Add three worksheets to the final excel workbook.\n",
    "- assests with the contents from bs_assets.csv\n",
    "- liabilities with the contents from bs_liabilities.csv\n",
    "- equity with the contents from bs_equity.csv\n",
    "- save the file as \"bs_with_source.xlsx\"\n"
   ]
  },
  {
   "cell_type": "code",
   "execution_count": 9,
   "metadata": {},
   "outputs": [],
   "source": [
    "import openpyxl as xl\n",
    "import pandas as pd\n",
    "\n",
    "wb = xl.load_workbook(\"../../resources/balancesheet.xlsx\")  # ../../ for two levels up\n",
    "assets = pd.read_csv(\"../../resources/bs_assets.csv\")\n",
    "col_list = assets.columns.tolist()\n",
    "val_list = assets.values.tolist()"
   ]
  },
  {
   "cell_type": "code",
   "execution_count": 10,
   "metadata": {},
   "outputs": [
    {
     "data": {
      "text/plain": [
       "['field', 'account', 'amount']"
      ]
     },
     "execution_count": 10,
     "metadata": {},
     "output_type": "execute_result"
    }
   ],
   "source": [
    "# let's see the columns \n",
    "col_list"
   ]
  },
  {
   "cell_type": "code",
   "execution_count": 25,
   "metadata": {},
   "outputs": [
    {
     "data": {
      "text/plain": [
       "[['Cash', 'Cash and cash equivalents  [D]', 800],\n",
       " ['Marketable securities', 'Short-term investments', 200],\n",
       " ['Account receivable', 'Accounts receivable  [I]', 500],\n",
       " ['Note receivable', 'Accounts receivable  [I]', 100],\n",
       " ['Raw materials', 'Inventories  [C]', 600],\n",
       " ['Work in process', 'Inventories  [C]', 200],\n",
       " ['Finished goods', 'Inventories  [C]', 100],\n",
       " ['Other inventory', 'Inventories  [C]', 50],\n",
       " ['PP&E', 'Property, plant and equipment at cost', 1000],\n",
       " ['Accumulated Depreciation', 'Less accumulated depreciation', 400],\n",
       " ['Deferred tax assets', 'Deferred income taxes', 20],\n",
       " ['Goodwill', 'Other assets', 100],\n",
       " ['Investment in affiliates', 'Other assets', 90],\n",
       " ['Other long term assents', 'Other assets', 100]]"
      ]
     },
     "execution_count": 25,
     "metadata": {},
     "output_type": "execute_result"
    }
   ],
   "source": [
    "# let's see the data\n",
    "val_list"
   ]
  },
  {
   "cell_type": "code",
   "execution_count": 13,
   "metadata": {},
   "outputs": [
    {
     "data": {
      "text/plain": [
       "<Worksheet \"assets\">"
      ]
     },
     "execution_count": 13,
     "metadata": {},
     "output_type": "execute_result"
    }
   ],
   "source": [
    "# create a sheet called assets\n",
    "wb.create_sheet(\"assets\")  # create a sheet called assets"
   ]
  },
  {
   "cell_type": "code",
   "execution_count": 26,
   "metadata": {},
   "outputs": [
    {
     "data": {
      "text/plain": [
       "['BS', 'assets']"
      ]
     },
     "execution_count": 26,
     "metadata": {},
     "output_type": "execute_result"
    }
   ],
   "source": [
    "wb.sheetnames"
   ]
  },
  {
   "cell_type": "markdown",
   "metadata": {},
   "source": [
    "## First,  assign the header value"
   ]
  },
  {
   "cell_type": "code",
   "execution_count": 22,
   "metadata": {},
   "outputs": [],
   "source": [
    "assets_st = wb['assets']  # get the assests worksheet\n",
    "\n",
    "# assign column name to row 1 in worksheet assets\n",
    "assets_st[\"A1\"] = col_list[0]\n",
    "assets_st[\"B1\"] = col_list[1]\n",
    "assets_st[\"C1\"] = col_list[2]"
   ]
  },
  {
   "cell_type": "markdown",
   "metadata": {},
   "source": [
    "## Now assign the data"
   ]
  },
  {
   "cell_type": "code",
   "execution_count": 23,
   "metadata": {},
   "outputs": [],
   "source": [
    "# we are going to assign the values from row 2\n",
    "\n",
    "index = 0 \n",
    "# loop thru each row starting from row 2 to the last row\n",
    "for i in range(2, len(val_list) + 2):\n",
    "    # for each element in the each list\n",
    "    assets_st[\"A\" + str(i)] = val_list[index][0]\n",
    "    assets_st[\"B\" + str(i)] = val_list[index][1]\n",
    "    assets_st[\"C\" + str(i)] = val_list[index][2]\n",
    "    index += 1\n",
    "    "
   ]
  },
  {
   "cell_type": "code",
   "execution_count": 24,
   "metadata": {},
   "outputs": [],
   "source": [
    "# save the workbook and you can check the result!\n",
    "wb.save(\"bs_with_assets_source.xlsx\")"
   ]
  },
  {
   "cell_type": "markdown",
   "metadata": {},
   "source": [
    "## Put together as a function"
   ]
  },
  {
   "cell_type": "code",
   "execution_count": 28,
   "metadata": {},
   "outputs": [],
   "source": [
    "# we can put together a function for this so we can use it to create other sheets\n",
    "\n",
    "def create_source_sheet(source_name, wb_obj, sheet_name):\n",
    "    source_df = pd.read_csv(\"../../resources/\" + source_name)\n",
    "    col_list = source_df.columns.tolist()\n",
    "    val_list = source_df.values.tolist()\n",
    "    wb_obj.create_sheet(sheet_name)\n",
    "    \n",
    "    # assign header\n",
    "    st = wb[sheet_name]\n",
    "    st[\"A1\"] = col_list[0]\n",
    "    st[\"B1\"] = col_list[1]\n",
    "    st[\"C1\"] = col_list[2]\n",
    "    \n",
    "    # assign data\n",
    "    index = 0 \n",
    "    for i in range(2, len(val_list) + 2):\n",
    "        # for each element in the each list\n",
    "        st[\"A\" + str(i)] = val_list[index][0]\n",
    "        st[\"B\" + str(i)] = val_list[index][1]\n",
    "        st[\"C\" + str(i)] = val_list[index][2]\n",
    "        index += 1\n",
    "    print(f\"{source_name} added to workbook\")\n",
    "    "
   ]
  },
  {
   "cell_type": "code",
   "execution_count": 30,
   "metadata": {},
   "outputs": [
    {
     "name": "stdout",
     "output_type": "stream",
     "text": [
      "bs_assets.csv added to workbook\n",
      "bs_liabilities.csv added to workbook\n",
      "bs_equity.csv added to workbook\n"
     ]
    }
   ],
   "source": [
    "# now let's use this function to create all worksheets\n",
    "wb = xl.load_workbook(\"../../resources/balancesheet.xlsx\")\n",
    "\n",
    "create_source_sheet(\"bs_assets.csv\", wb, \"assets\")\n",
    "create_source_sheet(\"bs_liabilities.csv\", wb, \"liabilities\")\n",
    "create_source_sheet(\"bs_equity.csv\", wb, \"equity\")"
   ]
  },
  {
   "cell_type": "code",
   "execution_count": 31,
   "metadata": {},
   "outputs": [],
   "source": [
    "# save the workbook to see the result\n",
    "wb.save(\"bs_with_soruces.xlsx\")"
   ]
  },
  {
   "cell_type": "markdown",
   "metadata": {},
   "source": [
    "## A concise version"
   ]
  },
  {
   "cell_type": "code",
   "execution_count": 34,
   "metadata": {},
   "outputs": [],
   "source": [
    "# There can be many ways to do the same,\n",
    "# this for example is a more concise version\n",
    "# maybe harder to understand though\n",
    "\n",
    "def create_source_sheet_2(source_name, wb_obj, sheet_name):\n",
    "    source_df = pd.read_csv(\"../../resources/\" + source_name)\n",
    "    col_list = source_df.columns.tolist()\n",
    "    val_list = source_df.values.tolist()\n",
    "    wb_obj.create_sheet(sheet_name)\n",
    "    st = wb[sheet_name]\n",
    "\n",
    "    row = 1  # start with row 1\n",
    "    for lst in [col_list] + val_list:  # combine the col list and val_list\n",
    "        idx = 0 # use this to advance the element within a row\n",
    "        for col in [\"A\", \"B\", \"C\"]:\n",
    "            st[col + str(row)] = lst[idx]\n",
    "            idx += 1\n",
    "        row += 1\n",
    "    print(f\"{source_name} added to workbook\")"
   ]
  },
  {
   "cell_type": "code",
   "execution_count": 35,
   "metadata": {},
   "outputs": [
    {
     "name": "stdout",
     "output_type": "stream",
     "text": [
      "bs_assets.csv added to workbook\n",
      "bs_liabilities.csv added to workbook\n",
      "bs_equity.csv added to workbook\n"
     ]
    }
   ],
   "source": [
    "# now let's use this function to create all worksheets\n",
    "wb = xl.load_workbook(\"../../resources/balancesheet.xlsx\")\n",
    "\n",
    "create_source_sheet_2(\"bs_assets.csv\", wb, \"assets\")\n",
    "create_source_sheet_2(\"bs_liabilities.csv\", wb, \"liabilities\")\n",
    "create_source_sheet_2(\"bs_equity.csv\", wb, \"equity\")"
   ]
  },
  {
   "cell_type": "code",
   "execution_count": 36,
   "metadata": {},
   "outputs": [],
   "source": [
    "# save the workbook to see the result\n",
    "wb.save(\"bs_with_soruces_2.xlsx\")"
   ]
  }
 ],
 "metadata": {
  "kernelspec": {
   "display_name": "Python 3.6.5 64-bit ('base': conda)",
   "language": "python",
   "name": "python36564bitbaseconda073a1d18fb274a708cf9265a3dde63f5"
  },
  "language_info": {
   "codemirror_mode": {
    "name": "ipython",
    "version": 3
   },
   "file_extension": ".py",
   "mimetype": "text/x-python",
   "name": "python",
   "nbconvert_exporter": "python",
   "pygments_lexer": "ipython3",
   "version": "3.6.5"
  }
 },
 "nbformat": 4,
 "nbformat_minor": 2
}
