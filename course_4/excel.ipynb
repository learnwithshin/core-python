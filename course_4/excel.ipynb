{
 "cells": [
  {
   "cell_type": "markdown",
   "metadata": {},
   "source": [
    "# Workbook and worksheet  - Excel\n",
    "\n",
    "Understand Workbook and Worksheet from OOP perspective."
   ]
  },
  {
   "cell_type": "code",
   "execution_count": 1,
   "metadata": {},
   "outputs": [
    {
     "name": "stdout",
     "output_type": "stream",
     "text": [
      "Requirement already satisfied: openpyxl in /anaconda3/lib/python3.6/site-packages (3.0.6)\n",
      "Requirement already satisfied: et-xmlfile in /anaconda3/lib/python3.6/site-packages (from openpyxl) (1.0.1)\n",
      "Requirement already satisfied: jdcal in /anaconda3/lib/python3.6/site-packages (from openpyxl) (1.4)\n",
      "\u001b[33mWARNING: You are using pip version 19.2.3, however version 21.0 is available.\n",
      "You should consider upgrading via the 'pip install --upgrade pip' command.\u001b[0m\n"
     ]
    }
   ],
   "source": [
    "!pip install openpyxl"
   ]
  },
  {
   "cell_type": "code",
   "execution_count": 2,
   "metadata": {},
   "outputs": [],
   "source": [
    "import openpyxl as xl  # we are goingt o use this libary to work with Excel"
   ]
  },
  {
   "cell_type": "code",
   "execution_count": 3,
   "metadata": {},
   "outputs": [],
   "source": [
    "# create a Workbook object\n",
    "my_wb = xl.Workbook()"
   ]
  },
  {
   "cell_type": "code",
   "execution_count": 4,
   "metadata": {},
   "outputs": [
    {
     "data": {
      "text/plain": [
       "<openpyxl.workbook.workbook.Workbook at 0x1063b1630>"
      ]
     },
     "execution_count": 4,
     "metadata": {},
     "output_type": "execute_result"
    }
   ],
   "source": [
    "my_wb "
   ]
  },
  {
   "cell_type": "code",
   "execution_count": 6,
   "metadata": {},
   "outputs": [
    {
     "data": {
      "text/plain": [
       "['Sheet']"
      ]
     },
     "execution_count": 6,
     "metadata": {},
     "output_type": "execute_result"
    }
   ],
   "source": [
    "my_wb.sheetnames  # sheetnames attribute to see what worksheets are in the workbook"
   ]
  },
  {
   "cell_type": "code",
   "execution_count": 7,
   "metadata": {},
   "outputs": [],
   "source": [
    "my_sheet = my_wb['Sheet']  # access the worksheet"
   ]
  },
  {
   "cell_type": "code",
   "execution_count": 8,
   "metadata": {},
   "outputs": [
    {
     "data": {
      "text/plain": [
       "<Worksheet \"Sheet\">"
      ]
     },
     "execution_count": 8,
     "metadata": {},
     "output_type": "execute_result"
    }
   ],
   "source": [
    "my_sheet  # this will give you a Worksheet object"
   ]
  },
  {
   "cell_type": "code",
   "execution_count": 9,
   "metadata": {},
   "outputs": [
    {
     "data": {
      "text/plain": [
       "'Sheet'"
      ]
     },
     "execution_count": 9,
     "metadata": {},
     "output_type": "execute_result"
    }
   ],
   "source": [
    "my_sheet.title"
   ]
  },
  {
   "cell_type": "code",
   "execution_count": 10,
   "metadata": {},
   "outputs": [
    {
     "data": {
      "text/plain": [
       "<Cell 'Sheet'.A1>"
      ]
     },
     "execution_count": 10,
     "metadata": {},
     "output_type": "execute_result"
    }
   ],
   "source": [
    "my_sheet['A1']  # Cell object"
   ]
  },
  {
   "cell_type": "code",
   "execution_count": 11,
   "metadata": {},
   "outputs": [],
   "source": [
    "my_sheet['A1'].value = \"I added this\""
   ]
  },
  {
   "cell_type": "code",
   "execution_count": 12,
   "metadata": {},
   "outputs": [
    {
     "data": {
      "text/plain": [
       "'I added this'"
      ]
     },
     "execution_count": 12,
     "metadata": {},
     "output_type": "execute_result"
    }
   ],
   "source": [
    "my_sheet['A1'].value  # access the \"value\" attribute"
   ]
  },
  {
   "cell_type": "code",
   "execution_count": 13,
   "metadata": {},
   "outputs": [
    {
     "data": {
      "text/plain": [
       "1"
      ]
     },
     "execution_count": 13,
     "metadata": {},
     "output_type": "execute_result"
    }
   ],
   "source": [
    "my_sheet['A1'].row  # the \"row\" attribute tells you what row this cell is located"
   ]
  },
  {
   "cell_type": "code",
   "execution_count": 14,
   "metadata": {},
   "outputs": [
    {
     "data": {
      "text/plain": [
       "1"
      ]
     },
     "execution_count": 14,
     "metadata": {},
     "output_type": "execute_result"
    }
   ],
   "source": [
    "my_sheet['A1'].column  # the \"row\" attribute tells you what column this cell is located  "
   ]
  },
  {
   "cell_type": "code",
   "execution_count": 16,
   "metadata": {},
   "outputs": [
    {
     "data": {
      "text/plain": [
       "<Worksheet \"new sheet\">"
      ]
     },
     "execution_count": 16,
     "metadata": {},
     "output_type": "execute_result"
    }
   ],
   "source": [
    "# Workbook has a method .create_sheet\n",
    "my_wb.create_sheet(\"new sheet\")"
   ]
  },
  {
   "cell_type": "code",
   "execution_count": 17,
   "metadata": {},
   "outputs": [
    {
     "data": {
      "text/plain": [
       "['Sheet', 'new sheet']"
      ]
     },
     "execution_count": 17,
     "metadata": {},
     "output_type": "execute_result"
    }
   ],
   "source": [
    "my_wb.sheetnames"
   ]
  },
  {
   "cell_type": "code",
   "execution_count": 18,
   "metadata": {},
   "outputs": [],
   "source": [
    "my_wb.save(\"my_excel.xlsx\")  # save the file in the current directory"
   ]
  },
  {
   "cell_type": "markdown",
   "metadata": {},
   "source": [
    "## Work with existing Excel Workbook"
   ]
  },
  {
   "cell_type": "code",
   "execution_count": 19,
   "metadata": {},
   "outputs": [],
   "source": [
    "# load_workbook function creates a Workbook object\n",
    "wb = xl.load_workbook('../resources/balancesheet.xlsx')"
   ]
  },
  {
   "cell_type": "code",
   "execution_count": 20,
   "metadata": {},
   "outputs": [
    {
     "data": {
      "text/plain": [
       "['BS']"
      ]
     },
     "execution_count": 20,
     "metadata": {},
     "output_type": "execute_result"
    }
   ],
   "source": [
    "wb.sheetnames"
   ]
  },
  {
   "cell_type": "code",
   "execution_count": 21,
   "metadata": {},
   "outputs": [],
   "source": [
    "sheet = wb['BS']"
   ]
  },
  {
   "cell_type": "code",
   "execution_count": 22,
   "metadata": {},
   "outputs": [
    {
     "data": {
      "text/plain": [
       "<Worksheet \"BS\">"
      ]
     },
     "execution_count": 22,
     "metadata": {},
     "output_type": "execute_result"
    }
   ],
   "source": [
    "sheet"
   ]
  },
  {
   "cell_type": "code",
   "execution_count": 23,
   "metadata": {},
   "outputs": [
    {
     "data": {
      "text/plain": [
       "'MyCompany Balance Sheet '"
      ]
     },
     "execution_count": 23,
     "metadata": {},
     "output_type": "execute_result"
    }
   ],
   "source": [
    "sheet['A1'].value  "
   ]
  },
  {
   "cell_type": "code",
   "execution_count": 24,
   "metadata": {},
   "outputs": [
    {
     "data": {
      "text/plain": [
       "(<Cell 'BS'.A1>,\n",
       " <Cell 'BS'.A2>,\n",
       " <Cell 'BS'.A3>,\n",
       " <Cell 'BS'.A4>,\n",
       " <Cell 'BS'.A5>,\n",
       " <Cell 'BS'.A6>,\n",
       " <Cell 'BS'.A7>,\n",
       " <Cell 'BS'.A8>,\n",
       " <Cell 'BS'.A9>,\n",
       " <Cell 'BS'.A10>,\n",
       " <Cell 'BS'.A11>,\n",
       " <Cell 'BS'.A12>,\n",
       " <Cell 'BS'.A13>,\n",
       " <Cell 'BS'.A14>,\n",
       " <Cell 'BS'.A15>,\n",
       " <Cell 'BS'.A16>,\n",
       " <Cell 'BS'.A17>,\n",
       " <Cell 'BS'.A18>,\n",
       " <Cell 'BS'.A19>,\n",
       " <Cell 'BS'.A20>,\n",
       " <Cell 'BS'.A21>,\n",
       " <Cell 'BS'.A22>,\n",
       " <Cell 'BS'.A23>,\n",
       " <Cell 'BS'.A24>,\n",
       " <Cell 'BS'.A25>,\n",
       " <Cell 'BS'.A26>,\n",
       " <Cell 'BS'.A27>,\n",
       " <Cell 'BS'.A28>,\n",
       " <Cell 'BS'.A29>,\n",
       " <Cell 'BS'.A30>,\n",
       " <Cell 'BS'.A31>,\n",
       " <Cell 'BS'.A32>,\n",
       " <Cell 'BS'.A33>)"
      ]
     },
     "execution_count": 24,
     "metadata": {},
     "output_type": "execute_result"
    }
   ],
   "source": [
    "sheet['A']  # get Column A, which is a tuple that consists of Cell objects"
   ]
  },
  {
   "cell_type": "code",
   "execution_count": 25,
   "metadata": {},
   "outputs": [
    {
     "name": "stdout",
     "output_type": "stream",
     "text": [
      "MyCompany Balance Sheet \n",
      "None\n",
      "Current ratio  [A/B]\n",
      "Quick ratio  [(A-C)/B]\n",
      "Cash ratio  [D/B]\n",
      "Stated in 000s\n",
      "ASSETS\n",
      "None\n",
      "Current assets\n",
      "Cash and cash equivalents  [D]\n",
      "Short-term investments\n",
      "Accounts receivable  [I]\n",
      "Inventories  [C]\n",
      "Total current assets  [A]\n",
      "None\n",
      "Fixed assets\n",
      "Property, plant and equipment at cost\n",
      "Less accumulated depreciation\n",
      "Total fixed assets\n",
      "None\n",
      "Other\n",
      "Deferred income taxes\n",
      "Other assets\n",
      "Total other assets\n",
      "Total assets  [E]\n",
      "None\n",
      "None\n",
      "None\n",
      "None\n",
      "None\n",
      "None\n",
      "None\n",
      "None\n"
     ]
    }
   ],
   "source": [
    "for cell in sheet['A']:  \n",
    "    print(cell.value)   # to see the value of each Cell object, use .value attribute"
   ]
  },
  {
   "cell_type": "code",
   "execution_count": 27,
   "metadata": {},
   "outputs": [
    {
     "name": "stdout",
     "output_type": "stream",
     "text": [
      "None\n",
      "None\n",
      "=IF(ISERROR(IF(B14=0,\"-\",B14/F11)),\"\",(IF(B14=0,\"-\",B14/F11)))\n",
      "=IF(ISERROR(IF(B14=0,\"-\",(B14-B13)/F11)),\"\",(IF(B14=0,\"-\",(B14-B13)/F11)))\n",
      "=IF(ISERROR(IF(B14=0,\"-\",B10/F11)),\"\",(IF(B14=0,\"-\",B10/F11)))\n",
      "None\n",
      "None\n",
      "None\n",
      "None\n",
      "None\n",
      "None\n",
      "None\n",
      "None\n",
      "=SUM(B10:B13)\n",
      "None\n",
      "None\n",
      "None\n",
      "None\n",
      "=B17+B18\n",
      "None\n",
      "None\n",
      "None\n",
      "None\n",
      "=SUM(B22:B23)\n",
      "=B14+B19+B24\n",
      "None\n",
      "None\n",
      "None\n",
      "None\n",
      "None\n",
      "None\n",
      "None\n",
      "None\n"
     ]
    }
   ],
   "source": [
    "# by the way the formulas are just strings\n",
    "for cell in sheet['B']:  \n",
    "    print(cell.value)"
   ]
  },
  {
   "cell_type": "code",
   "execution_count": 28,
   "metadata": {},
   "outputs": [],
   "source": [
    "sheet[\"E1\"].value = \"For the Period Ending: 12/31/2020\""
   ]
  },
  {
   "cell_type": "code",
   "execution_count": 29,
   "metadata": {},
   "outputs": [],
   "source": [
    "wb.save(\"test_balancesheet.xlsx\")"
   ]
  }
 ],
 "metadata": {
  "kernelspec": {
   "display_name": "Python 3.6.5 64-bit ('base': conda)",
   "language": "python",
   "name": "python36564bitbaseconda073a1d18fb274a708cf9265a3dde63f5"
  },
  "language_info": {
   "codemirror_mode": {
    "name": "ipython",
    "version": 3
   },
   "file_extension": ".py",
   "mimetype": "text/x-python",
   "name": "python",
   "nbconvert_exporter": "python",
   "pygments_lexer": "ipython3",
   "version": "3.6.5"
  }
 },
 "nbformat": 4,
 "nbformat_minor": 2
}
