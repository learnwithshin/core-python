{
 "cells": [
  {
   "cell_type": "code",
   "execution_count": 1,
   "metadata": {},
   "outputs": [
    {
     "name": "stdout",
     "output_type": "stream",
     "text": [
      "Done!!\n"
     ]
    }
   ],
   "source": [
    "import os\n",
    "import pandas as pd\n",
    "import openpyxl as xl\n",
    "import datetime\n",
    "\n",
    "resource_dir = \"../resources/\"\n",
    "\n",
    "\n",
    "def get_target_files(pre_fix):\n",
    "    \"\"\"Get the target files.\"\"\"\n",
    "    target_files = [file for file in os.listdir(resource_dir) if file.startswith(pre_fix)]\n",
    "    return target_files\n",
    "\n",
    "\n",
    "def concat_df(file_names):\n",
    "    \"\"\"Read in each csv file and concatenate into one dataframe.\"\"\"\n",
    "    all_dfs = [pd.read_csv(resource_dir + f) for f in file_names]\n",
    "    return pd.concat(all_dfs)\n",
    "\n",
    "\n",
    "def transform_data(df):\n",
    "    \"\"\"Some transformation.\"\"\"\n",
    "    sum_by_account = df.groupby(\"account\")['amount'].sum().to_dict()\n",
    "    return sum_by_account\n",
    "\n",
    "\n",
    "def upadte_balancesheet(balancesheet, account_val_map):\n",
    "    wb = xl.load_workbook(resource_dir + balancesheet)\n",
    "    st = wb['BS'] \n",
    "    for cell in st[\"A\"]:\n",
    "        if cell.value in account_val_map:\n",
    "            row_num = cell.row  # get row number\n",
    "            # set the value for column B\n",
    "            st[\"B\" + str(row_num)].value = account_val_map[cell.value]\n",
    "        \n",
    "    # do the same thing with column E\n",
    "    for cell in st[\"E\"]:\n",
    "        if cell.value in account_val_map:\n",
    "            row_num = cell.row  # get row number\n",
    "            # set the value for column F\n",
    "            st[\"F\" + str(row_num)].value = account_val_map[cell.value]\n",
    "            \n",
    "    return wb\n",
    "\n",
    "\n",
    "def get_today():\n",
    "    today = datetime.datetime.now()\n",
    "    today_str = today.strftime(\"%Y-%m-%d\")\n",
    "    return today_str\n",
    "\n",
    "\n",
    "def main():\n",
    "    sources = get_target_files(\"bs\")\n",
    "    combined_df = concat_df(sources)\n",
    "    account_map = transform_data(combined_df)\n",
    "    bs_wb = upadte_balancesheet(\"balancesheet.xlsx\", account_map)\n",
    "    today_str = get_today()\n",
    "    bs_wb.save(f\"bs_{today_str}.xlsx\")\n",
    "    print(\"Done!!\")\n",
    "    \n",
    "\n",
    "if __name__ == \"__main__\":\n",
    "    main()"
   ]
  }
 ],
 "metadata": {
  "kernelspec": {
   "display_name": "Python 3.6.5 64-bit ('base': conda)",
   "language": "python",
   "name": "python36564bitbaseconda073a1d18fb274a708cf9265a3dde63f5"
  },
  "language_info": {
   "codemirror_mode": {
    "name": "ipython",
    "version": 3
   },
   "file_extension": ".py",
   "mimetype": "text/x-python",
   "name": "python",
   "nbconvert_exporter": "python",
   "pygments_lexer": "ipython3",
   "version": "3.6.5"
  }
 },
 "nbformat": 4,
 "nbformat_minor": 2
}
