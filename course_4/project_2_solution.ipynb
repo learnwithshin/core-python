{
 "cells": [
  {
   "cell_type": "markdown",
   "metadata": {},
   "source": [
    "# Project 2 \n",
    "\n",
    "Steps:\n",
    "\n",
    "1. Read multiple csv files into our python program\n",
    "2. Combine the sources into one file\n",
    "3. Transform data into desired format - aggregate by \"account\" column\n",
    "4. Ingest data into an exisiting Excel \n",
    "5. Save the workbook with today's date\n"
   ]
  },
  {
   "cell_type": "markdown",
   "metadata": {},
   "source": [
    "## Step by step"
   ]
  },
  {
   "cell_type": "code",
   "execution_count": 18,
   "metadata": {},
   "outputs": [],
   "source": [
    "# 1\n",
    "# Read multiple csv files into our python program\n",
    "# We have done this before :)"
   ]
  },
  {
   "cell_type": "code",
   "execution_count": 19,
   "metadata": {},
   "outputs": [],
   "source": [
    "# step 1\n",
    "import os\n",
    "\n",
    "resource_dir = \"../resources/\"\n",
    "def get_target_files(pre_fix):\n",
    "    \"\"\"Get the target files.\"\"\"\n",
    "    target_files = [file for file in os.listdir(resource_dir) if file.startswith(pre_fix)]\n",
    "    return target_files"
   ]
  },
  {
   "cell_type": "code",
   "execution_count": 20,
   "metadata": {},
   "outputs": [
    {
     "data": {
      "text/plain": [
       "['bs_equity.csv', 'bs_liabilities.csv', 'bs_assets.csv']"
      ]
     },
     "execution_count": 20,
     "metadata": {},
     "output_type": "execute_result"
    }
   ],
   "source": [
    "sources = get_target_files(\"bs\")\n",
    "sources"
   ]
  },
  {
   "cell_type": "code",
   "execution_count": 21,
   "metadata": {},
   "outputs": [],
   "source": [
    "# 2 \n",
    "# Combine the sources into one file\n",
    "# We have done this too!"
   ]
  },
  {
   "cell_type": "code",
   "execution_count": 22,
   "metadata": {},
   "outputs": [],
   "source": [
    "# step 2 \n",
    "import pandas as pd\n",
    "\n",
    "def concat_df(file_names):\n",
    "    \"\"\"Read in each csv file and concatenate into one dataframe.\"\"\"\n",
    "    all_dfs = [pd.read_csv(resource_dir + f) for f in file_names]\n",
    "    return pd.concat(all_dfs)"
   ]
  },
  {
   "cell_type": "code",
   "execution_count": 23,
   "metadata": {},
   "outputs": [],
   "source": [
    "combined_df = concat_df(sources)"
   ]
  },
  {
   "cell_type": "code",
   "execution_count": 24,
   "metadata": {},
   "outputs": [],
   "source": [
    "# 3\n",
    "# Transform data into desired format\n",
    "# We want to get aggregated amount by the \"account\" column"
   ]
  },
  {
   "cell_type": "code",
   "execution_count": 25,
   "metadata": {},
   "outputs": [
    {
     "data": {
      "text/html": [
       "<div>\n",
       "<style scoped>\n",
       "    .dataframe tbody tr th:only-of-type {\n",
       "        vertical-align: middle;\n",
       "    }\n",
       "\n",
       "    .dataframe tbody tr th {\n",
       "        vertical-align: top;\n",
       "    }\n",
       "\n",
       "    .dataframe thead th {\n",
       "        text-align: right;\n",
       "    }\n",
       "</style>\n",
       "<table border=\"1\" class=\"dataframe\">\n",
       "  <thead>\n",
       "    <tr style=\"text-align: right;\">\n",
       "      <th></th>\n",
       "      <th>field</th>\n",
       "      <th>account</th>\n",
       "      <th>amount</th>\n",
       "    </tr>\n",
       "  </thead>\n",
       "  <tbody>\n",
       "    <tr>\n",
       "      <th>0</th>\n",
       "      <td>Preferred equity</td>\n",
       "      <td>Preferred equity</td>\n",
       "      <td>0</td>\n",
       "    </tr>\n",
       "    <tr>\n",
       "      <th>1</th>\n",
       "      <td>Common stock</td>\n",
       "      <td>Share capital and APIC</td>\n",
       "      <td>400</td>\n",
       "    </tr>\n",
       "    <tr>\n",
       "      <th>2</th>\n",
       "      <td>Additional paid in capital</td>\n",
       "      <td>Share capital and APIC</td>\n",
       "      <td>100</td>\n",
       "    </tr>\n",
       "    <tr>\n",
       "      <th>3</th>\n",
       "      <td>Retained earnings</td>\n",
       "      <td>Retained earnings</td>\n",
       "      <td>240</td>\n",
       "    </tr>\n",
       "    <tr>\n",
       "      <th>0</th>\n",
       "      <td>Account payable</td>\n",
       "      <td>Accounts payable and accrued expenses</td>\n",
       "      <td>300</td>\n",
       "    </tr>\n",
       "  </tbody>\n",
       "</table>\n",
       "</div>"
      ],
      "text/plain": [
       "                        field                                account  amount\n",
       "0            Preferred equity                       Preferred equity       0\n",
       "1                Common stock                 Share capital and APIC     400\n",
       "2  Additional paid in capital                 Share capital and APIC     100\n",
       "3           Retained earnings                      Retained earnings     240\n",
       "0             Account payable  Accounts payable and accrued expenses     300"
      ]
     },
     "execution_count": 25,
     "metadata": {},
     "output_type": "execute_result"
    }
   ],
   "source": [
    "combined_df.head()"
   ]
  },
  {
   "cell_type": "code",
   "execution_count": 26,
   "metadata": {},
   "outputs": [
    {
     "data": {
      "text/plain": [
       "account\n",
       "Accounts payable and accrued expenses                     400\n",
       "Accounts receivable  [I]                                  600\n",
       "Cash and cash equivalents  [D]                            800\n",
       "Deferred income taxes                                      20\n",
       "Deferred income taxes liabilities                         200\n",
       "Inventories  [C]                                          950\n",
       "Less accumulated depreciation                             400\n",
       "Loans payable and current portion long-term debt  [H]      30\n",
       "Long-term debt  [G]                                      1000\n",
       "Other assets                                              290\n",
       "Other long term liabilities                               200\n",
       "Preferred equity                                            0\n",
       "Property, plant and equipment at cost                    1000\n",
       "Retained earnings                                         240\n",
       "Share capital and APIC                                    500\n",
       "Short-term investments                                    200\n",
       "other current liabilities                                1690\n",
       "Name: amount, dtype: int64"
      ]
     },
     "execution_count": 26,
     "metadata": {},
     "output_type": "execute_result"
    }
   ],
   "source": [
    "# Group by the account and apply the \"sum\" method to the amount\n",
    "sum_by_account = combined_df.groupby(\"account\")['amount'].sum()\n",
    "sum_by_account"
   ]
  },
  {
   "cell_type": "code",
   "execution_count": 27,
   "metadata": {},
   "outputs": [
    {
     "data": {
      "text/plain": [
       "{'Accounts payable and accrued expenses': 400,\n",
       " 'Accounts receivable  [I]': 600,\n",
       " 'Cash and cash equivalents  [D]': 800,\n",
       " 'Deferred income taxes': 20,\n",
       " 'Deferred income taxes liabilities': 200,\n",
       " 'Inventories  [C]': 950,\n",
       " 'Less accumulated depreciation': 400,\n",
       " 'Loans payable and current portion long-term debt  [H]': 30,\n",
       " 'Long-term debt  [G]': 1000,\n",
       " 'Other assets': 290,\n",
       " 'Other long term liabilities': 200,\n",
       " 'Preferred equity': 0,\n",
       " 'Property, plant and equipment at cost': 1000,\n",
       " 'Retained earnings': 240,\n",
       " 'Share capital and APIC': 500,\n",
       " 'Short-term investments': 200,\n",
       " 'other current liabilities': 1690}"
      ]
     },
     "execution_count": 27,
     "metadata": {},
     "output_type": "execute_result"
    }
   ],
   "source": [
    "sum_by_account.to_dict()  # Series has to_dict method to convert to dictionary"
   ]
  },
  {
   "cell_type": "code",
   "execution_count": 28,
   "metadata": {},
   "outputs": [],
   "source": [
    "# step 3\n",
    "def transform_data(df):\n",
    "    \"\"\"Some transformation.\"\"\"\n",
    "    sum_by_account = df.groupby(\"account\")['amount'].sum().to_dict()\n",
    "    return sum_by_account"
   ]
  },
  {
   "cell_type": "code",
   "execution_count": 29,
   "metadata": {},
   "outputs": [],
   "source": [
    "account_val_map = transform_data(combined_df)"
   ]
  },
  {
   "cell_type": "code",
   "execution_count": 30,
   "metadata": {},
   "outputs": [],
   "source": [
    "# 4\n",
    "# Ingest data into an exisiting Excel "
   ]
  },
  {
   "cell_type": "code",
   "execution_count": 31,
   "metadata": {},
   "outputs": [],
   "source": [
    "# load excel file - we get back a \"Workbook\" object\n",
    "import openpyxl as xl\n",
    "wb = xl.load_workbook(resource_dir + 'balancesheet.xlsx')"
   ]
  },
  {
   "cell_type": "code",
   "execution_count": 32,
   "metadata": {},
   "outputs": [],
   "source": [
    "# get the \"Worksheet\" object\n",
    "st = wb['BS'] "
   ]
  },
  {
   "cell_type": "code",
   "execution_count": 33,
   "metadata": {},
   "outputs": [],
   "source": [
    "# We can loop through column \"A\" and if we find the account name that matches\n",
    "# then we assign the value to column \"B\" in the same row\n",
    "for cell in st[\"A\"]:\n",
    "    if cell.value in account_val_map:\n",
    "        row_num = cell.row  # get row number\n",
    "        # set the value for column B\n",
    "        st[\"B\" + str(row_num)].value = account_val_map[cell.value]\n",
    "        \n",
    "# do the same thing with column E\n",
    "for cell in st[\"E\"]:\n",
    "    if cell.value in account_val_map:\n",
    "        row_num = cell.row  # get row number\n",
    "        # set the value for column F\n",
    "        st[\"F\" + str(row_num)].value = account_val_map[cell.value]"
   ]
  },
  {
   "cell_type": "code",
   "execution_count": 36,
   "metadata": {},
   "outputs": [],
   "source": [
    "# Step 4\n",
    "def upadte_balancesheet(balancesheet, account_val_map):\n",
    "    wb = xl.load_workbook(resource_dir + balancesheet)\n",
    "    st = wb['BS'] \n",
    "    for cell in st[\"A\"]:\n",
    "        if cell.value in account_val_map:\n",
    "            row_num = cell.row  # get row number\n",
    "            # set the value for column B\n",
    "            st[\"B\" + str(row_num)].value = account_val_map[cell.value]\n",
    "        \n",
    "    # do the same thing with column E\n",
    "    for cell in st[\"E\"]:\n",
    "        if cell.value in account_val_map:\n",
    "            row_num = cell.row  # get row number\n",
    "            # set the value for column F\n",
    "            st[\"F\" + str(row_num)].value = account_val_map[cell.value]\n",
    "            \n",
    "    return wb    "
   ]
  },
  {
   "cell_type": "code",
   "execution_count": 37,
   "metadata": {},
   "outputs": [
    {
     "data": {
      "text/plain": [
       "<openpyxl.workbook.workbook.Workbook at 0x11f3d0588>"
      ]
     },
     "execution_count": 37,
     "metadata": {},
     "output_type": "execute_result"
    }
   ],
   "source": [
    "my_bs = upadte_balancesheet('balancesheet.xlsx', account_val_map)\n",
    "my_bs"
   ]
  },
  {
   "cell_type": "code",
   "execution_count": 38,
   "metadata": {},
   "outputs": [],
   "source": [
    "# 5\n",
    "# Save the file with today's date"
   ]
  },
  {
   "cell_type": "code",
   "execution_count": 39,
   "metadata": {},
   "outputs": [
    {
     "data": {
      "text/plain": [
       "datetime.datetime(2021, 1, 28, 0, 3, 32, 486159)"
      ]
     },
     "execution_count": 39,
     "metadata": {},
     "output_type": "execute_result"
    }
   ],
   "source": [
    "from datetime import datetime  # use python datetime module\n",
    "\n",
    "today = datetime.now()  # will give you a datetime object\n",
    "today"
   ]
  },
  {
   "cell_type": "code",
   "execution_count": 40,
   "metadata": {},
   "outputs": [
    {
     "data": {
      "text/plain": [
       "'2021-01-28'"
      ]
     },
     "execution_count": 40,
     "metadata": {},
     "output_type": "execute_result"
    }
   ],
   "source": [
    "# use strftime method to parse the string value and format it\n",
    "today_str = today.strftime(\"%Y-%m-%d\")\n",
    "today_str"
   ]
  },
  {
   "cell_type": "code",
   "execution_count": 41,
   "metadata": {},
   "outputs": [],
   "source": [
    "# step 5\n",
    "def get_today():\n",
    "    today = datetime.now()\n",
    "    today_str = today.strftime(\"%Y-%m-%d\")\n",
    "    return today_str  "
   ]
  },
  {
   "cell_type": "code",
   "execution_count": 44,
   "metadata": {},
   "outputs": [],
   "source": [
    "# put everything together\n",
    "def main():\n",
    "    sources = get_target_files(\"bs\")\n",
    "    combined_df = concat_df(sources)\n",
    "    account_map = transform_data(combined_df)\n",
    "    bs_wb = upadte_balancesheet(\"balancesheet.xlsx\", account_map)\n",
    "    today_str = get_today()\n",
    "    bs_wb.save(f\"bs_{today_str}.xlsx\")\n",
    "    print(\"Done!!\")"
   ]
  },
  {
   "cell_type": "code",
   "execution_count": 45,
   "metadata": {},
   "outputs": [
    {
     "name": "stdout",
     "output_type": "stream",
     "text": [
      "Done!!\n"
     ]
    }
   ],
   "source": [
    "main()"
   ]
  }
 ],
 "metadata": {
  "kernelspec": {
   "display_name": "Python 3.6.5 64-bit ('base': conda)",
   "language": "python",
   "name": "python36564bitbaseconda073a1d18fb274a708cf9265a3dde63f5"
  },
  "language_info": {
   "codemirror_mode": {
    "name": "ipython",
    "version": 3
   },
   "file_extension": ".py",
   "mimetype": "text/x-python",
   "name": "python",
   "nbconvert_exporter": "python",
   "pygments_lexer": "ipython3",
   "version": "3.6.5"
  }
 },
 "nbformat": 4,
 "nbformat_minor": 4
}
