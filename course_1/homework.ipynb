{
 "cells": [
  {
   "cell_type": "code",
   "execution_count": 53,
   "metadata": {},
   "outputs": [
    {
     "data": {
      "text/plain": [
       "[1, 3, 5, 7, 9]"
      ]
     },
     "execution_count": 53,
     "metadata": {},
     "output_type": "execute_result"
    }
   ],
   "source": [
    "# Question 1\n",
    "# List comprehension\n",
    "# Use list comprehension to generate a list \"new_list_1\" which contains odd numbers from 0-9\n",
    "\n",
    "# Expected result:\n",
    "# [1, 3, 5, 7, 9]\n",
    "\n",
    "new_list_1 = [i for i in range(10) if i % 2 == 1]\n",
    "new_list_1"
   ]
  },
  {
   "cell_type": "code",
   "execution_count": 12,
   "metadata": {},
   "outputs": [
    {
     "data": {
      "text/plain": [
       "[2, 6, 10, 14, 18]"
      ]
     },
     "execution_count": 12,
     "metadata": {},
     "output_type": "execute_result"
    }
   ],
   "source": [
    "# Question 2\n",
    "# Create a function called \"double\" to double input numbers\n",
    "# Use list cmprehension to generate a list \"new_list_2\" which uses double function to double odd numbers from 0-9\n",
    "\n",
    "# Expected result:\n",
    "# [2, 6, 10, 14, 18]\n",
    "\n",
    "def double(num):\n",
    "    return num * 2\n",
    "\n",
    "new_list_2 = [double(i) for i in range(10) if i % 2 == 1]\n",
    "new_list_2"
   ]
  },
  {
   "cell_type": "code",
   "execution_count": 54,
   "metadata": {},
   "outputs": [
    {
     "name": "stdout",
     "output_type": "stream",
     "text": [
      "Something went wrong: division by zero\n",
      "Done\n"
     ]
    }
   ],
   "source": [
    "# Question 3\n",
    "# Use try-ecxcept to catch \"ZeroDivisionError\" and print error message in f string\n",
    "\n",
    "# Expected result:\n",
    "# Something went wrong: division by zero\n",
    "# Done\n",
    "\n",
    "n = 2\n",
    "d = 0\n",
    "\n",
    "try:\n",
    "    print(n/d)\n",
    "except ZeroDivisionError as err: # error message\n",
    "    print(f\"Something went wrong: {err}\")\n",
    "print(\"Done\")"
   ]
  },
  {
   "cell_type": "markdown",
   "metadata": {},
   "source": [
    "## Cheatsheet\n",
    "\n",
    "Metacharacter . [] * + {n} {n1,n2}\n",
    "\n",
    "- `.` : match one character with any value\n",
    "- `[]` : match one character with certain values specified in []\n",
    "\n",
    "quantifier\n",
    "- `*` : repeat one character 0 or more times\n",
    "- `+` : repeat one character 1 or more times\n",
    "- `{n}` : repeat one character n times\n",
    "- `{n1,n2}` : repeat one character n1 to n2 times"
   ]
  },
  {
   "cell_type": "code",
   "execution_count": 38,
   "metadata": {},
   "outputs": [
    {
     "name": "stdout",
     "output_type": "stream",
     "text": [
      "<re.Match object; span=(3, 13), match='@yahoo.com'>\n",
      "<re.Match object; span=(7, 17), match='@gmail.com'>\n",
      "None\n"
     ]
    }
   ],
   "source": [
    "# Question 4 \n",
    "# If a string contains @yahoo.com or @gmail.com, create a regex pattern to match email domain including @. \n",
    "# Expected result:\n",
    "# <re.Match object; span=(3, 13), match='@yahoo.com'>\n",
    "# <re.Match object; span=(7, 17), match='@gmail.com'>\n",
    "# None\n",
    "\n",
    "import re\n",
    "\n",
    "str1 = \"abc@yahoo.com\"  # match @yahoo.com\n",
    "str2 = \"william@gmail.com\"  #match @gmail.com\n",
    "str3 = \"macys.com\"  # don't match\n",
    "\n",
    "regex = \"@.+com\"\n",
    "\n",
    "print(re.search(regex, str1))\n",
    "print(re.search(regex, str2))\n",
    "print(re.search(regex, str3))\n"
   ]
  },
  {
   "cell_type": "code",
   "execution_count": 39,
   "metadata": {},
   "outputs": [
    {
     "name": "stdout",
     "output_type": "stream",
     "text": [
      "<re.Match object; span=(0, 5), match='hello'>\n",
      "<re.Match object; span=(0, 11), match='hellooooooo'>\n",
      "<re.Match object; span=(0, 8), match='heeeello'>\n",
      "None\n"
     ]
    }
   ],
   "source": [
    "# Question 5\n",
    "# match str1, str2, str3 but not srt4\n",
    "# Expected result:\n",
    "# <re.Match object; span=(0, 5), match='hello'>\n",
    "# <re.Match object; span=(0, 11), match='hellooooooo'>\n",
    "# <re.Match object; span=(0, 8), match='heeeello'>\n",
    "# None\n",
    "\n",
    "\n",
    "import re\n",
    "\n",
    "str1 = \"hello\"\n",
    "str2 = \"hellooooooo\"\n",
    "str3 = \"heeeello\"\n",
    "str4 = \"helo\"  # don't match\n",
    "\n",
    "regex = \"he+llo+\"\n",
    "\n",
    "print(re.search(regex, str1))\n",
    "print(re.search(regex, str2))\n",
    "print(re.search(regex, str3))\n",
    "print(re.search(regex, str4))"
   ]
  },
  {
   "cell_type": "code",
   "execution_count": 52,
   "metadata": {},
   "outputs": [
    {
     "name": "stdout",
     "output_type": "stream",
     "text": [
      "None\n",
      "<re.Match object; span=(0, 6), match='clippa'>\n",
      "<re.Match object; span=(0, 5), match='clipb'>\n",
      "None\n"
     ]
    }
   ],
   "source": [
    "# Question 6\n",
    "\n",
    "# hint: match p's occurences and limit the characters that come after p\n",
    "# Expected result:\n",
    "# None\n",
    "# <re.Match object; span=(0, 6), match='clippa'>\n",
    "# <re.Match object; span=(0, 5), match='clipb'>\n",
    "# None\n",
    "\n",
    "\n",
    "import re\n",
    "\n",
    "str1 = \"clip\" # don't match\n",
    "str2 = \"clippa\" # match\n",
    "str3 = \"clipb\" # match\n",
    "str4 = \"clippc\" # don't match\n",
    "\n",
    "regex = \"clip{1,2}[ab]\" \n",
    "print(re.search(regex, str1))\n",
    "print(re.search(regex, str2))\n",
    "print(re.search(regex, str3))\n",
    "print(re.search(regex, str4))"
   ]
  }
 ],
 "metadata": {
  "kernelspec": {
   "display_name": "Python 3",
   "language": "python",
   "name": "python3"
  },
  "language_info": {
   "codemirror_mode": {
    "name": "ipython",
    "version": 3
   },
   "file_extension": ".py",
   "mimetype": "text/x-python",
   "name": "python",
   "nbconvert_exporter": "python",
   "pygments_lexer": "ipython3",
   "version": "3.8.5"
  }
 },
 "nbformat": 4,
 "nbformat_minor": 4
}
