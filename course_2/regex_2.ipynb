{
 "cells": [
  {
   "cell_type": "markdown",
   "metadata": {},
   "source": [
    "## Regex part 2\n",
    "\n",
    "- Understand important regex metacharacters\n",
    "- Use Groups to extract the targe strings"
   ]
  },
  {
   "cell_type": "code",
   "execution_count": 2,
   "metadata": {},
   "outputs": [],
   "source": [
    "import re"
   ]
  },
  {
   "cell_type": "markdown",
   "metadata": {},
   "source": [
    "### More about `[]`"
   ]
  },
  {
   "cell_type": "code",
   "execution_count": 3,
   "metadata": {},
   "outputs": [
    {
     "name": "stdout",
     "output_type": "stream",
     "text": [
      "<_sre.SRE_Match object; span=(0, 4), match='afoo'>\n"
     ]
    }
   ],
   "source": [
    "# allow all alphabet, both upper and lower,  and numbers\n",
    "regex = r'[a-zA-Z0-9]foo'\n",
    "\n",
    "m = re.search(regex, 'afoo')\n",
    "print(m)"
   ]
  },
  {
   "cell_type": "markdown",
   "metadata": {},
   "source": [
    "## Metacharacters for special matching\n",
    "\n",
    "`\\w`  - match a word character. Same as [a-zA-Z0-9_)\n",
    "\n",
    "`\\d`  - match number character. Same as [0-9]\n",
    "\n",
    "`\\s`  - match space\n"
   ]
  },
  {
   "cell_type": "code",
   "execution_count": 4,
   "metadata": {},
   "outputs": [
    {
     "name": "stdout",
     "output_type": "stream",
     "text": [
      "<_sre.SRE_Match object; span=(0, 4), match='afoo'>\n",
      "<_sre.SRE_Match object; span=(0, 4), match='1foo'>\n",
      "None\n",
      "<_sre.SRE_Match object; span=(0, 4), match='1foo'>\n",
      "<_sre.SRE_Match object; span=(0, 4), match=' foo'>\n"
     ]
    }
   ],
   "source": [
    "# \\w\n",
    "print(re.search(r\"\\wfoo\", \"afoo\"))\n",
    "print(re.search(r\"\\wfoo\", \"1foo\"))  # number is also considered a word\n",
    "print(re.search(r\"\\wfoo\", \"$foo\"))  # not a word\n",
    "\n",
    "# \\d\n",
    "print(re.search(r\"\\dfoo\", \"1foo\"))  \n",
    "\n",
    "# \\s\n",
    "print(re.search(r\"\\sfoo\", \" foo\"))\n"
   ]
  },
  {
   "cell_type": "code",
   "execution_count": 5,
   "metadata": {},
   "outputs": [
    {
     "name": "stdout",
     "output_type": "stream",
     "text": [
      "<_sre.SRE_Match object; span=(9, 17), match='abcd1234'>\n",
      "<_sre.SRE_Match object; span=(8, 16), match='efgh5678'>\n",
      "<_sre.SRE_Match object; span=(0, 8), match='12341234'>\n"
     ]
    }
   ],
   "source": [
    "id_1 = \"My id is abcd1234\"\n",
    "id_2 = \"The id: efgh5678\"\n",
    "\n",
    "regex = \"\\w{4}\\d{4}\"\n",
    "\n",
    "print(re.search(regex, id_1))  # this is good\n",
    "print(re.search(regex, id_2))  # this is good\n",
    "print(re.search(regex, \"12341234\"))  # but I don't want this..\n"
   ]
  },
  {
   "cell_type": "code",
   "execution_count": 6,
   "metadata": {},
   "outputs": [
    {
     "name": "stdout",
     "output_type": "stream",
     "text": [
      "<_sre.SRE_Match object; span=(9, 17), match='abcd1234'>\n",
      "None\n"
     ]
    }
   ],
   "source": [
    "regex = \"[a-z]{4}\\d{4}\"  # this works better :)\n",
    "\n",
    "print(re.search(regex, \"My id is abcd1234\"))\n",
    "print(re.search(regex, \"12341234\"))"
   ]
  },
  {
   "cell_type": "markdown",
   "metadata": {},
   "source": [
    "### Escape character\n",
    "\n",
    "Use backslash `\\` to escape metacharacters."
   ]
  },
  {
   "cell_type": "code",
   "execution_count": 7,
   "metadata": {},
   "outputs": [
    {
     "data": {
      "text/plain": [
       "<_sre.SRE_Match object; span=(0, 9), match='gmail.com'>"
      ]
     },
     "execution_count": 7,
     "metadata": {},
     "output_type": "execute_result"
    }
   ],
   "source": [
    "string = 'gmail.com'\n",
    "\n",
    "regex = 'gmail\\.com'  # match exact \".\"\n",
    "\n",
    "re.search(regex, string)"
   ]
  },
  {
   "cell_type": "code",
   "execution_count": 8,
   "metadata": {},
   "outputs": [
    {
     "data": {
      "text/plain": [
       "<_sre.SRE_Match object; span=(0, 5), match='2+4=3'>"
      ]
     },
     "execution_count": 8,
     "metadata": {},
     "output_type": "execute_result"
    }
   ],
   "source": [
    "string = \"2+4=3\"\n",
    "regex = \"\\d\\+\\d=\\d\"  # use \\ to match literal \"+\" (escape \"+\" as a quantifier metacharacter)\n",
    "re.search(regex, string)"
   ]
  },
  {
   "cell_type": "code",
   "execution_count": 9,
   "metadata": {},
   "outputs": [
    {
     "data": {
      "text/plain": [
       "<_sre.SRE_Match object; span=(20, 36), match='abc123@gmail.com'>"
      ]
     },
     "execution_count": 9,
     "metadata": {},
     "output_type": "execute_result"
    }
   ],
   "source": [
    "string = 'my email address is abc123@gmail.com'\n",
    "\n",
    "regex = '\\w+@\\w+\\.\\w+'\n",
    "re.search(regex, string)"
   ]
  },
  {
   "cell_type": "markdown",
   "metadata": {},
   "source": [
    "##  Groups\n",
    "\n",
    "`()` - specify groups\n",
    "\n",
    "This is very helpful for extracting the string you want."
   ]
  },
  {
   "cell_type": "code",
   "execution_count": 10,
   "metadata": {},
   "outputs": [
    {
     "data": {
      "text/plain": [
       "<_sre.SRE_Match object; span=(0, 5), match='a2foo'>"
      ]
     },
     "execution_count": 10,
     "metadata": {},
     "output_type": "execute_result"
    }
   ],
   "source": [
    "regex = r'(\\w\\d)foo'\n",
    "m = re.search(regex, 'a2foo')\n",
    "m  # the match object gives you the match result for the whole pattern"
   ]
  },
  {
   "cell_type": "code",
   "execution_count": 11,
   "metadata": {},
   "outputs": [
    {
     "data": {
      "text/plain": [
       "'a2'"
      ]
     },
     "execution_count": 11,
     "metadata": {},
     "output_type": "execute_result"
    }
   ],
   "source": [
    "# use the .group for the extracted content for a group\n",
    "m.group(1)"
   ]
  },
  {
   "cell_type": "code",
   "execution_count": 12,
   "metadata": {},
   "outputs": [
    {
     "data": {
      "text/plain": [
       "'a2foo'"
      ]
     },
     "execution_count": 12,
     "metadata": {},
     "output_type": "execute_result"
    }
   ],
   "source": [
    "m.group(0) # group zero points to the whole match"
   ]
  },
  {
   "cell_type": "markdown",
   "metadata": {},
   "source": [
    "### Use `re.I` to ignore case"
   ]
  },
  {
   "cell_type": "code",
   "execution_count": 16,
   "metadata": {},
   "outputs": [
    {
     "name": "stdout",
     "output_type": "stream",
     "text": [
      "None\n"
     ]
    }
   ],
   "source": [
    "regex = \"ap{2}le\"\n",
    "m = re.search(regex, 'I like Apple') \n",
    "print(m)"
   ]
  },
  {
   "cell_type": "code",
   "execution_count": 18,
   "metadata": {},
   "outputs": [
    {
     "name": "stdout",
     "output_type": "stream",
     "text": [
      "<_sre.SRE_Match object; span=(7, 12), match='Apple'>\n"
     ]
    }
   ],
   "source": [
    "# rather than using [aA] in the pattern, \n",
    "# we can use the re.I flag to make it ignore case\n",
    "regex = \"ap{2}le\"\n",
    "m = re.search(regex, 'I like Apple', re.I) # Upper case A won't match\n",
    "print(m) "
   ]
  }
 ],
 "metadata": {
  "kernelspec": {
   "display_name": "Python 3.6.5 64-bit ('base': conda)",
   "language": "python",
   "name": "python36564bitbaseconda073a1d18fb274a708cf9265a3dde63f5"
  },
  "language_info": {
   "codemirror_mode": {
    "name": "ipython",
    "version": 3
   },
   "file_extension": ".py",
   "mimetype": "text/x-python",
   "name": "python",
   "nbconvert_exporter": "python",
   "pygments_lexer": "ipython3",
   "version": "3.6.5"
  }
 },
 "nbformat": 4,
 "nbformat_minor": 2
}
