{
 "cells": [
  {
   "cell_type": "code",
   "execution_count": 2,
   "metadata": {},
   "outputs": [
    {
     "name": "stdout",
     "output_type": "stream",
     "text": [
      "Failed to edtract payment. No match for string: na\n",
      "Failed to edtract payment. No match for string: na\n",
      "Failed to edtract payment. No match for string: na\n",
      "Failed to edtract payment. No match for string: na\n"
     ]
    }
   ],
   "source": [
    "\"\"\"Put everthing together.\"\"\"\n",
    "\n",
    "import os\n",
    "import re\n",
    "\n",
    "import pandas as pd\n",
    "\n",
    "\n",
    "resource_dir = \"../resources/\"\n",
    "\n",
    "def get_target_files(prefix):\n",
    "    \"\"\"Get the target files.\"\"\"\n",
    "    target_files = [file for file in os.listdir(resource_dir) if file.startswith(prefix)]\n",
    "    return target_files\n",
    "\n",
    "\n",
    "def concat_df(file_names):\n",
    "    \"\"\"Read in each csv file and concatenate into one dataframe.\"\"\"\n",
    "    all_dfs = [pd.read_csv(resource_dir + f) for f in file_names]\n",
    "    return pd.concat(all_dfs)\n",
    "\n",
    "\n",
    "def extract_payment(string):\n",
    "    payment_reg = r\"monthly payment:\\s*\\${0,1}(\\d*)\"\n",
    "    match = re.search(payment_reg, string, re.I)\n",
    "    try:\n",
    "        payment = match.group(1)\n",
    "        return payment\n",
    "    except AttributeError:\n",
    "        print(f\"Failed to edtract payment. No match for string: {string}\")\n",
    "        return None\n",
    "\n",
    "\n",
    "def main():\n",
    "    # get all target file names\n",
    "    file_names = get_target_files(prefix=\"20\")\n",
    "    \n",
    "    # combine all files into one df\n",
    "    combined_df = concat_df(file_names)\n",
    "    \n",
    "    # assign new column using regex for extraction\n",
    "    combined_df['payment'] = combined_df['comments'].apply(extract_payment)\n",
    "    \n",
    "    # save to csv\n",
    "    combined_df.to_csv(\"result.csv\", index=False)\n",
    "\n",
    "\n",
    "if __name__ == \"__main__\":\n",
    "    main()"
   ]
  },
  {
   "cell_type": "code",
   "execution_count": null,
   "metadata": {},
   "outputs": [],
   "source": []
  }
 ],
 "metadata": {
  "kernelspec": {
   "display_name": "Python 3.6.5 64-bit ('base': conda)",
   "language": "python",
   "name": "python36564bitbaseconda073a1d18fb274a708cf9265a3dde63f5"
  },
  "language_info": {
   "codemirror_mode": {
    "name": "ipython",
    "version": 3
   },
   "file_extension": ".py",
   "mimetype": "text/x-python",
   "name": "python",
   "nbconvert_exporter": "python",
   "pygments_lexer": "ipython3",
   "version": "3.6.5"
  }
 },
 "nbformat": 4,
 "nbformat_minor": 2
}
