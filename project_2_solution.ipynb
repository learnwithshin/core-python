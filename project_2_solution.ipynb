{
 "cells": [
  {
   "cell_type": "code",
   "execution_count": 1,
   "metadata": {},
   "outputs": [
    {
     "ename": "FileNotFoundError",
     "evalue": "[Errno 2] No such file or directory: '../resources/'",
     "output_type": "error",
     "traceback": [
      "\u001b[0;31m---------------------------------------------------------------------------\u001b[0m",
      "\u001b[0;31mFileNotFoundError\u001b[0m                         Traceback (most recent call last)",
      "\u001b[0;32m<ipython-input-1-8634f4b0e13e>\u001b[0m in \u001b[0;36m<module>\u001b[0;34m()\u001b[0m\n\u001b[1;32m     61\u001b[0m \u001b[0;34m\u001b[0m\u001b[0m\n\u001b[1;32m     62\u001b[0m \u001b[0;32mif\u001b[0m \u001b[0m__name__\u001b[0m \u001b[0;34m==\u001b[0m \u001b[0;34m\"__main__\"\u001b[0m\u001b[0;34m:\u001b[0m\u001b[0;34m\u001b[0m\u001b[0m\n\u001b[0;32m---> 63\u001b[0;31m     \u001b[0mmain\u001b[0m\u001b[0;34m(\u001b[0m\u001b[0;34m)\u001b[0m\u001b[0;34m\u001b[0m\u001b[0m\n\u001b[0m",
      "\u001b[0;32m<ipython-input-1-8634f4b0e13e>\u001b[0m in \u001b[0;36mmain\u001b[0;34m()\u001b[0m\n\u001b[1;32m     51\u001b[0m \u001b[0;34m\u001b[0m\u001b[0m\n\u001b[1;32m     52\u001b[0m \u001b[0;32mdef\u001b[0m \u001b[0mmain\u001b[0m\u001b[0;34m(\u001b[0m\u001b[0;34m)\u001b[0m\u001b[0;34m:\u001b[0m\u001b[0;34m\u001b[0m\u001b[0m\n\u001b[0;32m---> 53\u001b[0;31m     \u001b[0msources\u001b[0m \u001b[0;34m=\u001b[0m \u001b[0mget_target_files\u001b[0m\u001b[0;34m(\u001b[0m\u001b[0;34m\"bs\"\u001b[0m\u001b[0;34m)\u001b[0m\u001b[0;34m\u001b[0m\u001b[0m\n\u001b[0m\u001b[1;32m     54\u001b[0m     \u001b[0mcombined_df\u001b[0m \u001b[0;34m=\u001b[0m \u001b[0mconcat_df\u001b[0m\u001b[0;34m(\u001b[0m\u001b[0msources\u001b[0m\u001b[0;34m)\u001b[0m\u001b[0;34m\u001b[0m\u001b[0m\n\u001b[1;32m     55\u001b[0m     \u001b[0maccount_map\u001b[0m \u001b[0;34m=\u001b[0m \u001b[0mtransform_data\u001b[0m\u001b[0;34m(\u001b[0m\u001b[0mcombined_df\u001b[0m\u001b[0;34m)\u001b[0m\u001b[0;34m\u001b[0m\u001b[0m\n",
      "\u001b[0;32m<ipython-input-1-8634f4b0e13e>\u001b[0m in \u001b[0;36mget_target_files\u001b[0;34m(pre_fix)\u001b[0m\n\u001b[1;32m      9\u001b[0m \u001b[0;32mdef\u001b[0m \u001b[0mget_target_files\u001b[0m\u001b[0;34m(\u001b[0m\u001b[0mpre_fix\u001b[0m\u001b[0;34m)\u001b[0m\u001b[0;34m:\u001b[0m\u001b[0;34m\u001b[0m\u001b[0m\n\u001b[1;32m     10\u001b[0m     \u001b[0;34m\"\"\"Get the target files.\"\"\"\u001b[0m\u001b[0;34m\u001b[0m\u001b[0m\n\u001b[0;32m---> 11\u001b[0;31m     \u001b[0mtarget_files\u001b[0m \u001b[0;34m=\u001b[0m \u001b[0;34m[\u001b[0m\u001b[0mfile\u001b[0m \u001b[0;32mfor\u001b[0m \u001b[0mfile\u001b[0m \u001b[0;32min\u001b[0m \u001b[0mos\u001b[0m\u001b[0;34m.\u001b[0m\u001b[0mlistdir\u001b[0m\u001b[0;34m(\u001b[0m\u001b[0mresource_dir\u001b[0m\u001b[0;34m)\u001b[0m \u001b[0;32mif\u001b[0m \u001b[0mfile\u001b[0m\u001b[0;34m.\u001b[0m\u001b[0mstartswith\u001b[0m\u001b[0;34m(\u001b[0m\u001b[0mpre_fix\u001b[0m\u001b[0;34m)\u001b[0m\u001b[0;34m]\u001b[0m\u001b[0;34m\u001b[0m\u001b[0m\n\u001b[0m\u001b[1;32m     12\u001b[0m     \u001b[0;32mreturn\u001b[0m \u001b[0mtarget_files\u001b[0m\u001b[0;34m\u001b[0m\u001b[0m\n\u001b[1;32m     13\u001b[0m \u001b[0;34m\u001b[0m\u001b[0m\n",
      "\u001b[0;31mFileNotFoundError\u001b[0m: [Errno 2] No such file or directory: '../resources/'"
     ]
    }
   ],
   "source": [
    "import os\n",
    "import pandas as pd\n",
    "import openpyxl as xl\n",
    "import datetime\n",
    "\n",
    "resource_dir = \"../resources/\"\n",
    "\n",
    "\n",
    "def get_target_files(pre_fix):\n",
    "    \"\"\"Get the target files.\"\"\"\n",
    "    target_files = [file for file in os.listdir(resource_dir) if file.startswith(pre_fix)]\n",
    "    return target_files\n",
    "\n",
    "\n",
    "def concat_df(file_names):\n",
    "    \"\"\"Read in each csv file and concatenate into one dataframe.\"\"\"\n",
    "    all_dfs = [pd.read_csv(resource_dir + f) for f in file_names]\n",
    "    return pd.concat(all_dfs)\n",
    "\n",
    "\n",
    "def transform_data(df):\n",
    "    \"\"\"Some transformation.\"\"\"\n",
    "    sum_by_account = df.groupby(\"account\")['amount'].sum().to_dict()\n",
    "    return sum_by_account\n",
    "\n",
    "\n",
    "def upadte_balancesheet(balancesheet, account_val_map):\n",
    "    wb = xl.load_workbook(resource_dir + balancesheet)\n",
    "    st = wb['BS'] \n",
    "    for cell in st[\"A\"]:\n",
    "        if cell.value in account_val_map:\n",
    "            row_num = cell.row  # get row number\n",
    "            # set the value for column B\n",
    "            st[\"B\" + str(row_num)].value = account_val_map[cell.value]\n",
    "        \n",
    "    # do the same thing with column E\n",
    "    for cell in st[\"E\"]:\n",
    "        if cell.value in account_val_map:\n",
    "            row_num = cell.row  # get row number\n",
    "            # set the value for column F\n",
    "            st[\"F\" + str(row_num)].value = account_val_map[cell.value]\n",
    "            \n",
    "    return wb\n",
    "\n",
    "\n",
    "def get_today():\n",
    "    today = datetime.datetime.now()\n",
    "    today_str = today.strftime(\"%Y-%m-%d\")\n",
    "    return today_str\n",
    "\n",
    "\n",
    "def main():\n",
    "    sources = get_target_files(\"bs\")\n",
    "    combined_df = concat_df(sources)\n",
    "    account_map = transform_data(combined_df)\n",
    "    bs_wb = upadte_balancesheet(\"balancesheet.xlsx\", account_map)\n",
    "    today_str = get_today()\n",
    "    bs_wb.save(f\"bs_{today_str}.xlsx\")\n",
    "    print(\"Done!!\")\n",
    "    \n",
    "\n",
    "if __name__ == \"__main__\":\n",
    "    main()"
   ]
  },
  {
   "cell_type": "code",
   "execution_count": null,
   "metadata": {},
   "outputs": [],
   "source": []
  }
 ],
 "metadata": {
  "kernelspec": {
   "display_name": "Python 3.6.5 64-bit ('base': conda)",
   "language": "python",
   "name": "python36564bitbaseconda073a1d18fb274a708cf9265a3dde63f5"
  },
  "language_info": {
   "codemirror_mode": {
    "name": "ipython",
    "version": 3
   },
   "file_extension": ".py",
   "mimetype": "text/x-python",
   "name": "python",
   "nbconvert_exporter": "python",
   "pygments_lexer": "ipython3",
   "version": "3.6.5"
  }
 },
 "nbformat": 4,
 "nbformat_minor": 2
}
