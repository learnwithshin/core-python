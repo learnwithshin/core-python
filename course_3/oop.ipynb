{
 "cells": [
  {
   "cell_type": "markdown",
   "metadata": {},
   "source": [
    "# Object Oriented Programing\n"
   ]
  },
  {
   "cell_type": "code",
   "execution_count": 29,
   "metadata": {},
   "outputs": [],
   "source": [
    "# Let's create a data type called Cat\n",
    "class Cat:\n",
    "    def __init__(self, name, age):  # this function gets called when you initialize an object\n",
    "        self.name = name            # assign an attribute \"name\"\n",
    "        self.age = age              # assign an attribute \"age\"        "
   ]
  },
  {
   "cell_type": "code",
   "execution_count": 9,
   "metadata": {},
   "outputs": [],
   "source": [
    "# initialize an object from the class \"Cat\"\n",
    "cat_1 = Cat(\"Mimi\", 3)\n",
    "cat_2 = Cat(\"Kiki\", 2)"
   ]
  },
  {
   "cell_type": "code",
   "execution_count": 10,
   "metadata": {},
   "outputs": [
    {
     "name": "stdout",
     "output_type": "stream",
     "text": [
      "<class '__main__.Cat'>\n"
     ]
    }
   ],
   "source": [
    "# see the type\n",
    "print(type(cat_1))"
   ]
  },
  {
   "cell_type": "code",
   "execution_count": 11,
   "metadata": {},
   "outputs": [
    {
     "name": "stdout",
     "output_type": "stream",
     "text": [
      "Mimi\n",
      "3\n",
      "Kiki\n",
      "2\n"
     ]
    }
   ],
   "source": [
    "print(cat_1.name)  # attribute name\n",
    "print(cat_1.age)   # attribute age\n",
    "print(cat_2.name)  # attribute name\n",
    "print(cat_2.age)   # attribute age"
   ]
  },
  {
   "cell_type": "code",
   "execution_count": 12,
   "metadata": {},
   "outputs": [
    {
     "name": "stdout",
     "output_type": "stream",
     "text": [
      "Meow\n"
     ]
    }
   ],
   "source": [
    "# Cat can also \"speak\"\n",
    "class Cat:\n",
    "    \n",
    "    def __init__(self, name, age):\n",
    "        self.name = name\n",
    "        self.age = age\n",
    "    \n",
    "    def speak(self):      # define a method called \"speak\"\n",
    "        print(\"Meow\")\n",
    "        \n",
    "# create a Cat object  \n",
    "cat_2 = Cat(\"Garfield\", 10)\n",
    "\n",
    "# call .speak method\n",
    "cat_2.speak()"
   ]
  },
  {
   "cell_type": "code",
   "execution_count": 8,
   "metadata": {},
   "outputs": [
    {
     "name": "stdout",
     "output_type": "stream",
     "text": [
      "Alex says: Hiya!\n",
      "Emily says: Heeha!\n"
     ]
    }
   ],
   "source": [
    "# a Knight class\n",
    "class Knight:\n",
    "    \n",
    "    def __init__(self, name, hp, cp):\n",
    "        self.name = name\n",
    "        self.hp = hp\n",
    "        self.cp = cp\n",
    "    \n",
    "    def slash(self):\n",
    "        print(f\"{self.name} says: Hiya!\")\n",
    "        \n",
    "    def smash(self):\n",
    "        print(f\"{self.name} says: Heeha!\")\n",
    "        \n",
    "alex = Knight(\"Alex\", 500, 400)\n",
    "alex.slash()\n",
    "\n",
    "emily = Knight(\"Emily\", 300, 500)\n",
    "emily.smash()"
   ]
  },
  {
   "cell_type": "markdown",
   "metadata": {},
   "source": [
    "## Bank account example"
   ]
  },
  {
   "cell_type": "code",
   "execution_count": 13,
   "metadata": {},
   "outputs": [],
   "source": [
    "class BankAccount:\n",
    "    \n",
    "    def __init__(self, acct_name, balance=100):\n",
    "        self.balance = balance\n",
    "        self.acct_name = acct_name\n",
    "        \n",
    "    def deposit(self, amt):\n",
    "        self.balance += amt\n",
    "        print(f\"Making a deposit of ${amt}\")\n",
    "        print(f\"Current balance is ${self.balance}\")\n",
    "        \n",
    "    def withdraw(self, amt):\n",
    "        if amt > self.balance:\n",
    "            print(f\"Not enough balance for withdrawal of ${amt}\")\n",
    "            \n",
    "        else:\n",
    "            print(f\"Withdrawing ${amt} from account {self.acct_name}\")\n",
    "            self.balance -= amt\n",
    "        print(f\"Current balance is ${self.balance}\")"
   ]
  },
  {
   "cell_type": "code",
   "execution_count": 18,
   "metadata": {},
   "outputs": [],
   "source": [
    "my_acct = BankAccount(\"myaccout\", 100)"
   ]
  },
  {
   "cell_type": "code",
   "execution_count": 19,
   "metadata": {},
   "outputs": [
    {
     "name": "stdout",
     "output_type": "stream",
     "text": [
      "Making a deposit of $200\n",
      "Current balance is $300\n"
     ]
    }
   ],
   "source": [
    "my_acct.deposit(200)"
   ]
  },
  {
   "cell_type": "code",
   "execution_count": 20,
   "metadata": {},
   "outputs": [
    {
     "name": "stdout",
     "output_type": "stream",
     "text": [
      "Withdrawing $100 from account myaccout\n",
      "Current balance is $200\n"
     ]
    }
   ],
   "source": [
    "my_acct.withdraw(100)"
   ]
  },
  {
   "cell_type": "code",
   "execution_count": 21,
   "metadata": {},
   "outputs": [
    {
     "data": {
      "text/plain": [
       "'myaccout'"
      ]
     },
     "execution_count": 21,
     "metadata": {},
     "output_type": "execute_result"
    }
   ],
   "source": [
    "my_acct.acct_name"
   ]
  },
  {
   "cell_type": "code",
   "execution_count": 22,
   "metadata": {},
   "outputs": [
    {
     "name": "stdout",
     "output_type": "stream",
     "text": [
      "Not enough balance for withdrawal of $1000\n",
      "Current balance is $200\n"
     ]
    }
   ],
   "source": [
    "my_acct.withdraw(1000)"
   ]
  },
  {
   "cell_type": "markdown",
   "metadata": {},
   "source": [
    "## In Python, everything is an object"
   ]
  },
  {
   "cell_type": "code",
   "execution_count": 24,
   "metadata": {},
   "outputs": [
    {
     "data": {
      "text/plain": [
       "[1, 2, 3, 4, 5]"
      ]
     },
     "execution_count": 24,
     "metadata": {},
     "output_type": "execute_result"
    }
   ],
   "source": [
    "my_list = [1, 2, 3, 4]   # initialize a list object\n",
    "\n",
    "my_list.append(5)\n",
    "my_list\n",
    "\n",
    "# you see, the \"list\" object has \"append\" method"
   ]
  },
  {
   "cell_type": "code",
   "execution_count": 25,
   "metadata": {},
   "outputs": [
    {
     "data": {
      "text/plain": [
       "[1, 2, 3, 4, 5]"
      ]
     },
     "execution_count": 25,
     "metadata": {},
     "output_type": "execute_result"
    }
   ],
   "source": [
    "my_list.sort()   # sort method\n",
    "my_list"
   ]
  },
  {
   "cell_type": "code",
   "execution_count": 26,
   "metadata": {},
   "outputs": [
    {
     "data": {
      "text/plain": [
       "False"
      ]
     },
     "execution_count": 26,
     "metadata": {},
     "output_type": "execute_result"
    }
   ],
   "source": [
    "# the \"string object\"\n",
    "my_string = \"string\"\n",
    "\n",
    "my_string.startswith(\"a\")  # string has .startswith() method"
   ]
  },
  {
   "cell_type": "code",
   "execution_count": 27,
   "metadata": {},
   "outputs": [
    {
     "data": {
      "text/plain": [
       "'STRING'"
      ]
     },
     "execution_count": 27,
     "metadata": {},
     "output_type": "execute_result"
    }
   ],
   "source": [
    "my_string.upper()  # .upper() method"
   ]
  },
  {
   "cell_type": "code",
   "execution_count": 28,
   "metadata": {},
   "outputs": [
    {
     "name": "stdout",
     "output_type": "stream",
     "text": [
      "<class 'int'>\n",
      "<class 'str'>\n",
      "<class 'bool'>\n"
     ]
    }
   ],
   "source": [
    "# Everything is an object of a class\n",
    "print(type(2))\n",
    "print(type(\"this is a string\"))\n",
    "print(type(True))"
   ]
  }
 ],
 "metadata": {
  "kernelspec": {
   "display_name": "Python 3.6.5 64-bit ('base': conda)",
   "language": "python",
   "name": "python36564bitbaseconda073a1d18fb274a708cf9265a3dde63f5"
  },
  "language_info": {
   "codemirror_mode": {
    "name": "ipython",
    "version": 3
   },
   "file_extension": ".py",
   "mimetype": "text/x-python",
   "name": "python",
   "nbconvert_exporter": "python",
   "pygments_lexer": "ipython3",
   "version": "3.6.5"
  }
 },
 "nbformat": 4,
 "nbformat_minor": 2
}
