{
 "cells": [
  {
   "cell_type": "code",
   "execution_count": 1,
   "metadata": {},
   "outputs": [],
   "source": [
    "# write a file and save it to our file system\n",
    "with open(\"my_file.txt\", mode='w') as f:\n",
    "    f.write(\"My first line\\n\")\n",
    "    f.write(\"My second line\\n\")"
   ]
  },
  {
   "cell_type": "code",
   "execution_count": null,
   "metadata": {},
   "outputs": [],
   "source": [
    "# read in a file\n",
    "with open(\"my_file.txt\", mode='r') as f:\n",
    "    content_list = f.readlines()  # readlines takes care of split the contents into lines and put it in a list\n",
    "    \n",
    "print(content_list)\n"
   ]
  },
  {
   "cell_type": "markdown",
   "metadata": {},
   "source": [
    "# Build a custom TextFile class\n"
   ]
  },
  {
   "cell_type": "code",
   "execution_count": 2,
   "metadata": {},
   "outputs": [],
   "source": [
    "class TextFile:\n",
    "    \"\"\"Textfile class that represents a text file.\"\"\"\n",
    "    \n",
    "    def __init__(self):\n",
    "        self.contents = []\n",
    "        \n",
    "    def add_line(self, line):\n",
    "        self.contents.append(line + \"\\n\")\n",
    "        \n",
    "    def save(self, file_name):\n",
    "        with open(file_name, \"w\") as f:\n",
    "            for line in self.contents:\n",
    "                f.write(line)\n",
    "        print(f\"{file_name} saved!\")\n",
    "\n",
    "                \n",
    "def read_text_file(file_name):\n",
    "    tf = TextFile()\n",
    "    with open(file_name, 'r') as f:\n",
    "        for line in f.readlines():\n",
    "            tf.contents.append(line)\n",
    "        \n",
    "    return tf\n",
    " "
   ]
  },
  {
   "cell_type": "code",
   "execution_count": 3,
   "metadata": {},
   "outputs": [],
   "source": [
    "# initialize an object of TextFile\n",
    "text_file = TextFile()"
   ]
  },
  {
   "cell_type": "code",
   "execution_count": 4,
   "metadata": {},
   "outputs": [
    {
     "data": {
      "text/plain": [
       "[]"
      ]
     },
     "execution_count": 4,
     "metadata": {},
     "output_type": "execute_result"
    }
   ],
   "source": [
    "# the contents attribute is an empty list\n",
    "text_file.contents"
   ]
  },
  {
   "cell_type": "code",
   "execution_count": 131,
   "metadata": {},
   "outputs": [],
   "source": [
    "# add line to the text file\n",
    "text_file.add_line(\"This is my first line\")"
   ]
  },
  {
   "cell_type": "code",
   "execution_count": 132,
   "metadata": {},
   "outputs": [],
   "source": [
    "text_file.add_line(\"This is my second line\")"
   ]
  },
  {
   "cell_type": "code",
   "execution_count": 133,
   "metadata": {},
   "outputs": [
    {
     "data": {
      "text/plain": [
       "['This is my first line\\n', 'This is my second line\\n']"
      ]
     },
     "execution_count": 133,
     "metadata": {},
     "output_type": "execute_result"
    }
   ],
   "source": [
    "text_file.contents"
   ]
  },
  {
   "cell_type": "code",
   "execution_count": 134,
   "metadata": {},
   "outputs": [
    {
     "name": "stdout",
     "output_type": "stream",
     "text": [
      "my_text_file.txt saved!\n"
     ]
    }
   ],
   "source": [
    "# let's save the file!\n",
    "text_file.save(\"my_text_file.txt\")"
   ]
  },
  {
   "cell_type": "code",
   "execution_count": 135,
   "metadata": {},
   "outputs": [],
   "source": [
    "# read text file\n",
    "\n",
    "news = read_text_file(\"../resources/news.txt\")"
   ]
  },
  {
   "cell_type": "code",
   "execution_count": 136,
   "metadata": {},
   "outputs": [
    {
     "data": {
      "text/plain": [
       "['By Daniel McGraw, Shawn Hubler and Dan Levin\\n',\n",
       " '\\n',\n",
       " 'Published July 16, 2020\\n',\n",
       " '\\n',\n",
       " 'Updated July 18, 2020\\n',\n",
       " '\\n',\n",
       " 'LAKEWOOD, Ohio — Hammered by mounting coronavirus costs and anticipating lost revenue from international students, fall sports and state budgets gutted by the pandemic, colleges and universities nationwide have begun eyeing what until now has been seen as a last resort — thinning the ranks of their faculty.\\n',\n",
       " '\\n',\n",
       " 'The University of Akron this week became one of the first schools in the country to make deep cuts in the number of full-time professors on its staff, with the board of trustees voting on Wednesday to lay off about a fifth of the university’s unionized work force to balance its budget, including nearly 100 faculty members.\\n',\n",
       " '\\n',\n",
       " 'Other universities have also trimmed teaching positions, although most have limited themselves to those without tenure. This month, the University of Texas at San Antonio laid off 69 instructors, while the University of Michigan, Flint, last month eliminated more than 40 percent of the 300 lecturers who handle a majority of the teaching load on campus. Since May, Ohio University has had three rounds of layoffs, including more than 50 nonunionized faculty members.\\n',\n",
       " '\\n',\n",
       " 'The cuts underscore the growing financial crisis sweeping across higher education, which in recent years has struggled with shrinking state support and declining enrollment amid concerns about skyrocketing tuition and the burden of student debt. The coronavirus and signs of declining fall enrollment have only accelerated the financial trouble everywhere including at large state research universities and small liberal arts schools.\\n',\n",
       " '\\n',\n",
       " 'Lucrative college sports have dwindled as a revenue stream as games have been canceled, and colleges have lost money they usually make from dining halls, campus bookstores and room-and-board payments, which were refunded by many schools in the spring. Many students have also demanded tuition rebates, as face time with professors and the experience of campus life have been replaced by remote instruction from home.\\n',\n",
       " '\\n',\n",
       " 'On the cost side, campuses have been forced to stockpile face masks and reconfigure lecture halls, cafeterias and dorm rooms. And as the number of infections has dipped only to surge again in many states, uncertainty has made planning even more difficult. Some schools that had been set to reopen campuses in the fall have been forced in recent weeks to move to online instruction instead.\\n']"
      ]
     },
     "execution_count": 136,
     "metadata": {},
     "output_type": "execute_result"
    }
   ],
   "source": [
    "news.contents"
   ]
  },
  {
   "cell_type": "code",
   "execution_count": 137,
   "metadata": {},
   "outputs": [],
   "source": [
    "news.add_line(\"I add this line!\")"
   ]
  },
  {
   "cell_type": "code",
   "execution_count": 138,
   "metadata": {},
   "outputs": [
    {
     "data": {
      "text/plain": [
       "['By Daniel McGraw, Shawn Hubler and Dan Levin\\n',\n",
       " '\\n',\n",
       " 'Published July 16, 2020\\n',\n",
       " '\\n',\n",
       " 'Updated July 18, 2020\\n',\n",
       " '\\n',\n",
       " 'LAKEWOOD, Ohio — Hammered by mounting coronavirus costs and anticipating lost revenue from international students, fall sports and state budgets gutted by the pandemic, colleges and universities nationwide have begun eyeing what until now has been seen as a last resort — thinning the ranks of their faculty.\\n',\n",
       " '\\n',\n",
       " 'The University of Akron this week became one of the first schools in the country to make deep cuts in the number of full-time professors on its staff, with the board of trustees voting on Wednesday to lay off about a fifth of the university’s unionized work force to balance its budget, including nearly 100 faculty members.\\n',\n",
       " '\\n',\n",
       " 'Other universities have also trimmed teaching positions, although most have limited themselves to those without tenure. This month, the University of Texas at San Antonio laid off 69 instructors, while the University of Michigan, Flint, last month eliminated more than 40 percent of the 300 lecturers who handle a majority of the teaching load on campus. Since May, Ohio University has had three rounds of layoffs, including more than 50 nonunionized faculty members.\\n',\n",
       " '\\n',\n",
       " 'The cuts underscore the growing financial crisis sweeping across higher education, which in recent years has struggled with shrinking state support and declining enrollment amid concerns about skyrocketing tuition and the burden of student debt. The coronavirus and signs of declining fall enrollment have only accelerated the financial trouble everywhere including at large state research universities and small liberal arts schools.\\n',\n",
       " '\\n',\n",
       " 'Lucrative college sports have dwindled as a revenue stream as games have been canceled, and colleges have lost money they usually make from dining halls, campus bookstores and room-and-board payments, which were refunded by many schools in the spring. Many students have also demanded tuition rebates, as face time with professors and the experience of campus life have been replaced by remote instruction from home.\\n',\n",
       " '\\n',\n",
       " 'On the cost side, campuses have been forced to stockpile face masks and reconfigure lecture halls, cafeterias and dorm rooms. And as the number of infections has dipped only to surge again in many states, uncertainty has made planning even more difficult. Some schools that had been set to reopen campuses in the fall have been forced in recent weeks to move to online instruction instead.\\n',\n",
       " 'I add this line!\\n']"
      ]
     },
     "execution_count": 138,
     "metadata": {},
     "output_type": "execute_result"
    }
   ],
   "source": [
    "news.contents"
   ]
  },
  {
   "cell_type": "code",
   "execution_count": 139,
   "metadata": {},
   "outputs": [
    {
     "name": "stdout",
     "output_type": "stream",
     "text": [
      "news_2.txt saved!\n"
     ]
    }
   ],
   "source": [
    "news.save(\"news_2.txt\")"
   ]
  }
 ],
 "metadata": {
  "kernelspec": {
   "display_name": "Python 3.6.5 64-bit ('base': conda)",
   "language": "python",
   "name": "python36564bitbaseconda073a1d18fb274a708cf9265a3dde63f5"
  },
  "language_info": {
   "codemirror_mode": {
    "name": "ipython",
    "version": 3
   },
   "file_extension": ".py",
   "mimetype": "text/x-python",
   "name": "python",
   "nbconvert_exporter": "python",
   "pygments_lexer": "ipython3",
   "version": "3.6.5"
  }
 },
 "nbformat": 4,
 "nbformat_minor": 2
}
