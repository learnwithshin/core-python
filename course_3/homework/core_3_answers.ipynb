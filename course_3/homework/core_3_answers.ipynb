{
 "cells": [
  {
   "cell_type": "markdown",
   "metadata": {},
   "source": [
    "### Question 1\n",
    "- Create a class \"SmartPhone\"\n",
    "- Initialize with attributes\n",
    "    - brand\n",
    "    - device_name\n",
    "    - battery_life\n",
    "- Create a method \"play_video\" that does the following things\n",
    "    - Print \"{device name} is playing video\", e.g., \"iphone is playing video\"\n",
    "    - Every time you play a video and the battery_life goes down 10%\n",
    "    - When the power is less than 15%, print \"low battery, not able to play video\"\n",
    "    \n",
    " - Create a method \"charge_power\"\n",
    "    - print \"charging {device name}...\"\n",
    "    - battery_life goes back to 100\n",
    "    - print \"battery fully charged\""
   ]
  },
  {
   "cell_type": "code",
   "execution_count": 133,
   "metadata": {},
   "outputs": [],
   "source": [
    "class SmartPhone:\n",
    "    def __init__(self, brand, device_name, battery_life):\n",
    "        self.brand = brand\n",
    "        self.device_name = device_name\n",
    "        self.battery_life = battery_life\n",
    "        \n",
    "    def play_video(self):\n",
    "        if self.battery_life < 15:\n",
    "            print(\"low battery, not able to play video\")\n",
    "        else:\n",
    "            print(f\"{self.device_name} is playing video\")\n",
    "            self.battery_life = self.battery_life - 10\n",
    "        print(f\"Battery life is {self.battery_life}%\")\n",
    "        \n",
    "    def charge_power(self):\n",
    "        print(f\"charging {self.device_name}\")\n",
    "        self.battery_life = 100\n",
    "        print(f\"battery fully charged\")"
   ]
  },
  {
   "cell_type": "code",
   "execution_count": 134,
   "metadata": {},
   "outputs": [],
   "source": [
    "phone1 = SmartPhone(\"Apple\", \"myphone\", 100)"
   ]
  },
  {
   "cell_type": "code",
   "execution_count": 135,
   "metadata": {
    "scrolled": true
   },
   "outputs": [
    {
     "name": "stdout",
     "output_type": "stream",
     "text": [
      "myphone is playing video\n",
      "Battery life is 90%\n"
     ]
    }
   ],
   "source": [
    "phone1.play_video()"
   ]
  },
  {
   "cell_type": "code",
   "execution_count": 136,
   "metadata": {},
   "outputs": [
    {
     "name": "stdout",
     "output_type": "stream",
     "text": [
      "charging myphone\n",
      "battery fully charged\n"
     ]
    }
   ],
   "source": [
    "phone1.charge_power()"
   ]
  },
  {
   "cell_type": "markdown",
   "metadata": {},
   "source": [
    "### Question 2\n",
    "- In the class TextFile example, please add following methods \n",
    "- First method: line_count, which returns how many lines are in the file\n",
    "  - hint: `len` function tells you how many elements are here in a list\n",
    "- Second method: modify_line, which allows you to modify an existing line given the line number and new line.\n",
    "  - hint: the method takes two arguments, line number and new line"
   ]
  },
  {
   "cell_type": "code",
   "execution_count": 66,
   "metadata": {},
   "outputs": [],
   "source": [
    "class TextFile:\n",
    "    def __init__(self):\n",
    "        self.contents = []\n",
    "        \n",
    "    def add_line(self, line):\n",
    "        self.contents.append(line + \"\\n\")\n",
    "        \n",
    "    def save(self, file_name):\n",
    "        with open(file_name, mode=\"w\") as f:\n",
    "            for line in self.contents:\n",
    "                f.write(line)\n",
    "        print(f\"{file_name} saved!\")"
   ]
  },
  {
   "cell_type": "code",
   "execution_count": 67,
   "metadata": {},
   "outputs": [],
   "source": [
    "class TextFile:\n",
    "    def __init__(self):\n",
    "        self.contents = []\n",
    "        \n",
    "    def add_line(self, line):\n",
    "        self.contents.append(line + \"\\n\")\n",
    "        \n",
    "    def save(self, file_name):\n",
    "        with open(file_name, mode=\"w\") as f:\n",
    "            for line in self.contents:\n",
    "                f.write(line)\n",
    "        print(f\"{file_name} saved!\")\n",
    "    \n",
    "    def line_count(self):\n",
    "        return len(self.contents)\n",
    "    \n",
    "    def modify_line(self, line_number, update):\n",
    "        self.contents[line_number] = update\n",
    "    \n",
    "    "
   ]
  },
  {
   "cell_type": "code",
   "execution_count": 74,
   "metadata": {},
   "outputs": [],
   "source": [
    "tf = TextFile()\n",
    "tf.add_line(\"First\")\n",
    "tf.add_line(\"Second\")"
   ]
  },
  {
   "cell_type": "code",
   "execution_count": 75,
   "metadata": {},
   "outputs": [
    {
     "data": {
      "text/plain": [
       "['First\\n', 'Second\\n']"
      ]
     },
     "execution_count": 75,
     "metadata": {},
     "output_type": "execute_result"
    }
   ],
   "source": [
    "tf.contents"
   ]
  },
  {
   "cell_type": "code",
   "execution_count": 77,
   "metadata": {},
   "outputs": [
    {
     "data": {
      "text/plain": [
       "2"
      ]
     },
     "execution_count": 77,
     "metadata": {},
     "output_type": "execute_result"
    }
   ],
   "source": [
    "tf.line_count()"
   ]
  },
  {
   "cell_type": "code",
   "execution_count": 79,
   "metadata": {},
   "outputs": [],
   "source": [
    "tf.modify_line(1, \"new\")"
   ]
  },
  {
   "cell_type": "code",
   "execution_count": 80,
   "metadata": {},
   "outputs": [
    {
     "data": {
      "text/plain": [
       "['First\\n', 'new']"
      ]
     },
     "execution_count": 80,
     "metadata": {},
     "output_type": "execute_result"
    }
   ],
   "source": [
    "tf.contents"
   ]
  }
 ],
 "metadata": {
  "kernelspec": {
   "display_name": "Python 3",
   "language": "python",
   "name": "python3"
  },
  "language_info": {
   "codemirror_mode": {
    "name": "ipython",
    "version": 3
   },
   "file_extension": ".py",
   "mimetype": "text/x-python",
   "name": "python",
   "nbconvert_exporter": "python",
   "pygments_lexer": "ipython3",
   "version": "3.8.5"
  }
 },
 "nbformat": 4,
 "nbformat_minor": 4
}
