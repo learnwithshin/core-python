{
 "cells": [
  {
   "cell_type": "code",
   "execution_count": 1,
   "metadata": {},
   "outputs": [],
   "source": [
    "import re\n",
    "\n",
    "class Address:\n",
    "    \n",
    "    def __init__(self, address):\n",
    "        self.address = address\n",
    "        self.regex = \"(\\d+)\\s+([\\w\\s]+),\\s([A-Z]{2})\\s*(\\d+)\"  # we have done this many times :)\n",
    "        self.match = re.search(self.regex, self.address, re.I)\n",
    "        self.street_number = self.get_street_number()\n",
    "        self.street_name = self.get_street_name()\n",
    "        self.zipcode = self.get_zipcode()\n",
    "        self.state = self.get_state()\n",
    "          \n",
    "    def get_street_number(self):\n",
    "        if self.match is not None:\n",
    "            return self.match.group(1)\n",
    "        return \"Street number not found\"\n",
    "        \n",
    "    def get_street_name(self):\n",
    "        if self.match is not None:\n",
    "            return self.match.group(2)\n",
    "        return \"Street name not found\"\n",
    "        \n",
    "    def get_state(self):\n",
    "        if self.match is not None:\n",
    "            return self.match.group(3)\n",
    "        return \"State not found\"\n",
    "        \n",
    "    def get_zipcode(self):\n",
    "        if self.match is not None:\n",
    "            return self.match.group(4)\n",
    "        return \"Zipcode not found\"\n",
    "        \n",
    "    "
   ]
  },
  {
   "cell_type": "code",
   "execution_count": 2,
   "metadata": {},
   "outputs": [
    {
     "name": "stdout",
     "output_type": "stream",
     "text": [
      "123\n",
      "Awesome Court\n",
      "NY\n",
      "00500\n"
     ]
    }
   ],
   "source": [
    "my_address = Address(\"123 Awesome Court, NY 00500\")\n",
    "print(my_address.street_number)\n",
    "print(my_address.street_name)\n",
    "print(my_address.state)\n",
    "print(my_address.zipcode)"
   ]
  },
  {
   "cell_type": "code",
   "execution_count": 3,
   "metadata": {},
   "outputs": [
    {
     "name": "stdout",
     "output_type": "stream",
     "text": [
      "Street number not found\n",
      "Street name not found\n",
      "State not found\n",
      "Zipcode not found\n"
     ]
    }
   ],
   "source": [
    "my_address = Address(\"this is not a valid address\")\n",
    "print(my_address.street_number)\n",
    "print(my_address.street_name)\n",
    "print(my_address.state)\n",
    "print(my_address.zipcode)"
   ]
  }
 ],
 "metadata": {
  "kernelspec": {
   "display_name": "Python 3.6.5 64-bit ('base': conda)",
   "language": "python",
   "name": "python36564bitbaseconda073a1d18fb274a708cf9265a3dde63f5"
  },
  "language_info": {
   "codemirror_mode": {
    "name": "ipython",
    "version": 3
   },
   "file_extension": ".py",
   "mimetype": "text/x-python",
   "name": "python",
   "nbconvert_exporter": "python",
   "pygments_lexer": "ipython3",
   "version": "3.6.5"
  }
 },
 "nbformat": 4,
 "nbformat_minor": 2
}
