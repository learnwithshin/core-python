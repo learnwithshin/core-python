{
 "cells": [
  {
   "cell_type": "code",
   "execution_count": 15,
   "metadata": {},
   "outputs": [],
   "source": [
    "import re\n",
    "\n",
    "addresses = [\n",
    "    \"957 Jackson Common Suite, TN 77564\",\n",
    "    \"70317 Dwayne Youngport, WV 65679\",\n",
    "    \"67386 Miller Carterview, PA 54060\"\n",
    "]"
   ]
  },
  {
   "cell_type": "markdown",
   "metadata": {},
   "source": [
    "## Question 1\n",
    "- Use list comprehension to put 3 street names in a list.\n",
    "- Expected result:\n",
    "['Jackson Common Suite', 'Dwayne Youngport', 'Miller Carterview']"
   ]
  },
  {
   "cell_type": "code",
   "execution_count": 16,
   "metadata": {},
   "outputs": [],
   "source": [
    "regex = \"\\d+\\s+([\\w\\s]+),\\s[A-Z]{2}\\s\\d+\"\n",
    "stree_name_list = [re.search(regex, address, re.I).group(1) for address in addresses]"
   ]
  },
  {
   "cell_type": "code",
   "execution_count": 17,
   "metadata": {},
   "outputs": [
    {
     "data": {
      "text/plain": [
       "['Jackson Common Suite', 'Dwayne Youngport', 'Miller Carterview']"
      ]
     },
     "execution_count": 17,
     "metadata": {},
     "output_type": "execute_result"
    }
   ],
   "source": [
    "stree_name_list"
   ]
  },
  {
   "cell_type": "markdown",
   "metadata": {},
   "source": [
    "## Question 2\n",
    "- Following Question 1, now Write a function with try except and list comprehension to put 3 street names in a list.\n"
   ]
  },
  {
   "cell_type": "code",
   "execution_count": 18,
   "metadata": {},
   "outputs": [],
   "source": [
    "def get_street(address):\n",
    "    regex = \"\\d+\\s+([\\w\\s]+),\\s[A-Z]{2}\\s\\d+\"\n",
    "    try:\n",
    "        return re.search(regex, address, re.I).group(1)\n",
    "    except AttributeError:\n",
    "        print(f\"Cannot find street for: {address}\")\n",
    "        return None"
   ]
  },
  {
   "cell_type": "code",
   "execution_count": 19,
   "metadata": {},
   "outputs": [
    {
     "data": {
      "text/plain": [
       "['Jackson Common Suite', 'Dwayne Youngport', 'Miller Carterview']"
      ]
     },
     "execution_count": 19,
     "metadata": {},
     "output_type": "execute_result"
    }
   ],
   "source": [
    "addresses = [\n",
    "    \"957 Jackson Common Suite, TN 77564\",\n",
    "    \"70317 Dwayne Youngport, WV 65679\",\n",
    "    \"67386 Miller Carterview, PA 54060\"\n",
    "]\n",
    "stree_name_list = [get_street(address) for address in addresses]\n",
    "stree_name_list"
   ]
  },
  {
   "cell_type": "code",
   "execution_count": 22,
   "metadata": {},
   "outputs": [
    {
     "name": "stdout",
     "output_type": "stream",
     "text": [
      "Cannot find street for: fake and bad address\n"
     ]
    },
    {
     "data": {
      "text/plain": [
       "['Jackson Common Suite', 'Dwayne Youngport', 'Miller Carterview', None]"
      ]
     },
     "execution_count": 22,
     "metadata": {},
     "output_type": "execute_result"
    }
   ],
   "source": [
    "addresses = [\n",
    "    \"957 Jackson Common Suite, TN 77564\",\n",
    "    \"70317 Dwayne Youngport, WV 65679\",\n",
    "    \"67386 Miller Carterview, PA 54060\",\n",
    "    \"fake and bad address\"\n",
    "]\n",
    "stree_name_list = [get_street(address) for address in addresses]\n",
    "stree_name_list"
   ]
  }
 ],
 "metadata": {
  "kernelspec": {
   "display_name": "Python 3",
   "language": "python",
   "name": "python3"
  },
  "language_info": {
   "codemirror_mode": {
    "name": "ipython",
    "version": 3
   },
   "file_extension": ".py",
   "mimetype": "text/x-python",
   "name": "python",
   "nbconvert_exporter": "python",
   "pygments_lexer": "ipython3",
   "version": "3.6.5"
  }
 },
 "nbformat": 4,
 "nbformat_minor": 4
}
