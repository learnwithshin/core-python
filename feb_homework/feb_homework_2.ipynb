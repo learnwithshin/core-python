{
 "cells": [
  {
   "cell_type": "code",
   "execution_count": 1,
   "metadata": {},
   "outputs": [],
   "source": [
    "# this is the text\n",
    "# source: https://www.apple.com/newsroom/2021/01/apple-reports-first-quarter-results/\n",
    "TXT = \"Cupertino, California — January 27, 2021 — Apple today announced financial results for its fiscal 2021 first quarter ended December 26, 2020. The Company posted all-time record revenue of $111.4 billion, up 21 percent year over year, and quarterly earnings per diluted share of $1.68, up 35 percent. International sales accounted for 64 percent of the quarter’s revenue.\""
   ]
  },
  {
   "cell_type": "markdown",
   "metadata": {},
   "source": [
    "## Write regex patterns to extract the following data, so you get\n",
    "\n",
    "- period end: December 26, 2020\n",
    "- revenue: 111.4b\n",
    "- earnings per diluted share: 1.68\n",
    "- international sales %: 64\n",
    "\n",
    "## Create a function called parse_data\n",
    "- takes regex parttern as the argument\n",
    "- handles error when you failed to extract the group and return None\n",
    "\n",
    "## Make a dictionary for your final result, expected output looks like this\n",
    "{'period_end': 'December 26, 2020',\n",
    " 'reveune': '111.4',\n",
    " 'eps': '1.68',\n",
    " 'international_sales_percent': '64'}\n",
    "    "
   ]
  },
  {
   "cell_type": "code",
   "execution_count": 9,
   "metadata": {},
   "outputs": [],
   "source": [
    "# regex patterns for each field\n",
    "period_reg = \"quarter ended ([\\w\\s,]*)\\.\"\n",
    "revenue_reg = \"revenue of \\$(\\d+\\.\\d+)\"\n",
    "eps_reg = \"earnings per diluted share of \\$(\\d+\\.\\d+)\"\n",
    "int_sales_percent_reg = \"International sales accounted for (\\d+\\.{0,1}\\d*) percent\""
   ]
  },
  {
   "cell_type": "code",
   "execution_count": 10,
   "metadata": {},
   "outputs": [],
   "source": [
    "# function that parses the data and handles error\n",
    "import re\n",
    "\n",
    "def parse_data(regex):\n",
    "    try:\n",
    "        return re.search(regex, TXT, re.I).group(1)\n",
    "    except AttributeError:\n",
    "        print(\"Not found\")\n",
    "        return None"
   ]
  },
  {
   "cell_type": "code",
   "execution_count": 11,
   "metadata": {},
   "outputs": [],
   "source": [
    "# create a dictionary to hold these data\n",
    "\n",
    "\n",
    "data = {}\n",
    "data['period_end'] = parse_data(period_reg)\n",
    "\n",
    "# complete the following\n",
    "data['reveune'] = parse_data(revenue_reg)\n",
    "data['eps'] = parse_data(eps_reg)\n",
    "data['international_sales_percent'] = parse_data(int_sales_percent_reg)\n"
   ]
  },
  {
   "cell_type": "code",
   "execution_count": 12,
   "metadata": {},
   "outputs": [
    {
     "data": {
      "text/plain": [
       "{'period_end': 'December 26, 2020',\n",
       " 'reveune': '111.4',\n",
       " 'eps': '1.68',\n",
       " 'international_sales_percent': '64'}"
      ]
     },
     "execution_count": 12,
     "metadata": {},
     "output_type": "execute_result"
    }
   ],
   "source": [
    "data"
   ]
  }
 ],
 "metadata": {
  "kernelspec": {
   "display_name": "Python 3",
   "language": "python",
   "name": "python3"
  },
  "language_info": {
   "codemirror_mode": {
    "name": "ipython",
    "version": 3
   },
   "file_extension": ".py",
   "mimetype": "text/x-python",
   "name": "python",
   "nbconvert_exporter": "python",
   "pygments_lexer": "ipython3",
   "version": "3.6.5"
  }
 },
 "nbformat": 4,
 "nbformat_minor": 2
}
